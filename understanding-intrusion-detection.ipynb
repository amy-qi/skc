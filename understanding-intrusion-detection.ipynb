{
 "cells": [
  {
   "cell_type": "markdown",
   "metadata": {
    "_cell_guid": "9ea825d0-2940-4b22-97e4-2e0334b0e246",
    "_uuid": "d180f31c308c90819e44011aa6e223a9752fb98e"
   },
   "source": [
    "# Introduction"
   ]
  },
  {
   "cell_type": "markdown",
   "metadata": {
    "execution": {
     "iopub.execute_input": "2021-07-18T06:46:36.844518Z",
     "iopub.status.busy": "2021-07-18T06:46:36.844208Z",
     "iopub.status.idle": "2021-07-18T06:46:36.848266Z",
     "shell.execute_reply": "2021-07-18T06:46:36.847679Z",
     "shell.execute_reply.started": "2021-07-18T06:46:36.84446Z"
    }
   },
   "source": [
    "## Reference:\n",
    "\n",
    "https://www.kaggle.com/nidhirastogi/intrusion-detection/data"
   ]
  },
  {
   "cell_type": "markdown",
   "metadata": {
    "_cell_guid": "4a708a81-c556-45ec-987a-8cd4a4c09dcd",
    "_uuid": "6c1b5ccc179140f6f8fc83ccaace4d84d2a91cbe"
   },
   "source": [
    "## Import libraries"
   ]
  },
  {
   "cell_type": "code",
   "execution_count": 1,
   "metadata": {
    "_cell_guid": "936dcd83-e109-4078-bde8-2c1d616f61ef",
    "_uuid": "f208d6751b1a1c39f3e7d77e17e822136f254104",
    "execution": {
     "iopub.execute_input": "2024-06-10T18:15:33.240606Z",
     "iopub.status.busy": "2024-06-10T18:15:33.240062Z",
     "iopub.status.idle": "2024-06-10T18:15:33.939050Z",
     "shell.execute_reply": "2024-06-10T18:15:33.938105Z",
     "shell.execute_reply.started": "2024-06-10T18:15:33.240516Z"
    }
   },
   "outputs": [],
   "source": [
    "import pandas as pd\n",
    "import seaborn as sns\n",
    "import matplotlib.pyplot as plt\n",
    "import matplotlib as matplot\n",
    "import numpy as np\n",
    "\n",
    "import re\n",
    "import sklearn\n",
    "\n",
    "import warnings\n",
    "warnings.filterwarnings(\"ignore\")\n",
    "\n",
    "%matplotlib inline\n",
    "\n",
    "df_train = pd.read_csv('../input/Train_data.csv')\n",
    "df_test = pd.read_csv('../input/test_data.csv')\n",
    "df_test = df_test.drop('Unnamed: 0',axis=1)"
   ]
  },
  {
   "cell_type": "markdown",
   "metadata": {},
   "source": [
    "## Exploring the data \n",
    "\n",
    "Data has 42 columns: duration, protocol_type, src_bytes, wrong_fragment, etc.\n",
    "\n",
    "Training set has 125973 and Test set has 10000 samples"
   ]
  },
  {
   "cell_type": "code",
   "execution_count": 2,
   "metadata": {
    "_cell_guid": "b81cd6e4-7b43-46f0-a619-a2732816f259",
    "_uuid": "3adf147fed7b86527bae09791bd55c6a2a555e86",
    "execution": {
     "iopub.execute_input": "2024-06-10T18:15:33.940670Z",
     "iopub.status.busy": "2024-06-10T18:15:33.940399Z",
     "iopub.status.idle": "2024-06-10T18:15:34.035458Z",
     "shell.execute_reply": "2024-06-10T18:15:34.034485Z",
     "shell.execute_reply.started": "2024-06-10T18:15:33.940623Z"
    }
   },
   "outputs": [
    {
     "data": {
      "text/html": [
       "<div>\n",
       "<style scoped>\n",
       "    .dataframe tbody tr th:only-of-type {\n",
       "        vertical-align: middle;\n",
       "    }\n",
       "\n",
       "    .dataframe tbody tr th {\n",
       "        vertical-align: top;\n",
       "    }\n",
       "\n",
       "    .dataframe thead th {\n",
       "        text-align: right;\n",
       "    }\n",
       "</style>\n",
       "<table border=\"1\" class=\"dataframe\">\n",
       "  <thead>\n",
       "    <tr style=\"text-align: right;\">\n",
       "      <th></th>\n",
       "      <th>duration</th>\n",
       "      <th>protocol_type</th>\n",
       "      <th>service</th>\n",
       "      <th>flag</th>\n",
       "      <th>src_bytes</th>\n",
       "      <th>dst_bytes</th>\n",
       "      <th>land</th>\n",
       "      <th>wrong_fragment</th>\n",
       "      <th>urgent</th>\n",
       "      <th>hot</th>\n",
       "      <th>num_failed_logins</th>\n",
       "      <th>logged_in</th>\n",
       "      <th>num_compromised</th>\n",
       "      <th>root_shell</th>\n",
       "      <th>su_attempted</th>\n",
       "      <th>num_root</th>\n",
       "      <th>num_file_creations</th>\n",
       "      <th>num_shells</th>\n",
       "      <th>num_access_files</th>\n",
       "      <th>num_outbound_cmds</th>\n",
       "      <th>is_host_login</th>\n",
       "      <th>is_guest_login</th>\n",
       "      <th>count</th>\n",
       "      <th>srv_count</th>\n",
       "      <th>serror_rate</th>\n",
       "      <th>srv_serror_rate</th>\n",
       "      <th>rerror_rate</th>\n",
       "      <th>srv_rerror_rate</th>\n",
       "      <th>same_srv_rate</th>\n",
       "      <th>diff_srv_rate</th>\n",
       "      <th>srv_diff_host_rate</th>\n",
       "      <th>dst_host_count</th>\n",
       "      <th>dst_host_srv_count</th>\n",
       "      <th>dst_host_same_srv_rate</th>\n",
       "      <th>dst_host_diff_srv_rate</th>\n",
       "      <th>dst_host_same_src_port_rate</th>\n",
       "      <th>dst_host_srv_diff_host_rate</th>\n",
       "      <th>dst_host_serror_rate</th>\n",
       "      <th>dst_host_srv_serror_rate</th>\n",
       "      <th>dst_host_rerror_rate</th>\n",
       "      <th>dst_host_srv_rerror_rate</th>\n",
       "      <th>xAttack</th>\n",
       "    </tr>\n",
       "  </thead>\n",
       "  <tbody>\n",
       "    <tr>\n",
       "      <th>0</th>\n",
       "      <td>0</td>\n",
       "      <td>icmp</td>\n",
       "      <td>20</td>\n",
       "      <td>2</td>\n",
       "      <td>491</td>\n",
       "      <td>0</td>\n",
       "      <td>0</td>\n",
       "      <td>0</td>\n",
       "      <td>0</td>\n",
       "      <td>0</td>\n",
       "      <td>0</td>\n",
       "      <td>0</td>\n",
       "      <td>0</td>\n",
       "      <td>0</td>\n",
       "      <td>0</td>\n",
       "      <td>0</td>\n",
       "      <td>0</td>\n",
       "      <td>0</td>\n",
       "      <td>0</td>\n",
       "      <td>0</td>\n",
       "      <td>0</td>\n",
       "      <td>0</td>\n",
       "      <td>2</td>\n",
       "      <td>2</td>\n",
       "      <td>0.0</td>\n",
       "      <td>0.0</td>\n",
       "      <td>0.0</td>\n",
       "      <td>0.0</td>\n",
       "      <td>1.00</td>\n",
       "      <td>0.00</td>\n",
       "      <td>0.00</td>\n",
       "      <td>150</td>\n",
       "      <td>25</td>\n",
       "      <td>0.17</td>\n",
       "      <td>0.03</td>\n",
       "      <td>0.17</td>\n",
       "      <td>0.00</td>\n",
       "      <td>0.00</td>\n",
       "      <td>0.00</td>\n",
       "      <td>0.05</td>\n",
       "      <td>0.00</td>\n",
       "      <td>normal</td>\n",
       "    </tr>\n",
       "    <tr>\n",
       "      <th>1</th>\n",
       "      <td>0</td>\n",
       "      <td>udp</td>\n",
       "      <td>45</td>\n",
       "      <td>2</td>\n",
       "      <td>146</td>\n",
       "      <td>0</td>\n",
       "      <td>0</td>\n",
       "      <td>0</td>\n",
       "      <td>0</td>\n",
       "      <td>0</td>\n",
       "      <td>0</td>\n",
       "      <td>0</td>\n",
       "      <td>0</td>\n",
       "      <td>0</td>\n",
       "      <td>0</td>\n",
       "      <td>0</td>\n",
       "      <td>0</td>\n",
       "      <td>0</td>\n",
       "      <td>0</td>\n",
       "      <td>0</td>\n",
       "      <td>0</td>\n",
       "      <td>0</td>\n",
       "      <td>13</td>\n",
       "      <td>1</td>\n",
       "      <td>0.0</td>\n",
       "      <td>0.0</td>\n",
       "      <td>0.0</td>\n",
       "      <td>0.0</td>\n",
       "      <td>0.08</td>\n",
       "      <td>0.15</td>\n",
       "      <td>0.00</td>\n",
       "      <td>255</td>\n",
       "      <td>1</td>\n",
       "      <td>0.00</td>\n",
       "      <td>0.60</td>\n",
       "      <td>0.88</td>\n",
       "      <td>0.00</td>\n",
       "      <td>0.00</td>\n",
       "      <td>0.00</td>\n",
       "      <td>0.00</td>\n",
       "      <td>0.00</td>\n",
       "      <td>normal</td>\n",
       "    </tr>\n",
       "    <tr>\n",
       "      <th>2</th>\n",
       "      <td>0</td>\n",
       "      <td>icmp</td>\n",
       "      <td>50</td>\n",
       "      <td>4</td>\n",
       "      <td>0</td>\n",
       "      <td>0</td>\n",
       "      <td>0</td>\n",
       "      <td>0</td>\n",
       "      <td>0</td>\n",
       "      <td>0</td>\n",
       "      <td>0</td>\n",
       "      <td>0</td>\n",
       "      <td>0</td>\n",
       "      <td>0</td>\n",
       "      <td>0</td>\n",
       "      <td>0</td>\n",
       "      <td>0</td>\n",
       "      <td>0</td>\n",
       "      <td>0</td>\n",
       "      <td>0</td>\n",
       "      <td>0</td>\n",
       "      <td>0</td>\n",
       "      <td>123</td>\n",
       "      <td>6</td>\n",
       "      <td>1.0</td>\n",
       "      <td>1.0</td>\n",
       "      <td>0.0</td>\n",
       "      <td>0.0</td>\n",
       "      <td>0.05</td>\n",
       "      <td>0.07</td>\n",
       "      <td>0.00</td>\n",
       "      <td>255</td>\n",
       "      <td>26</td>\n",
       "      <td>0.10</td>\n",
       "      <td>0.05</td>\n",
       "      <td>0.00</td>\n",
       "      <td>0.00</td>\n",
       "      <td>1.00</td>\n",
       "      <td>1.00</td>\n",
       "      <td>0.00</td>\n",
       "      <td>0.00</td>\n",
       "      <td>dos</td>\n",
       "    </tr>\n",
       "    <tr>\n",
       "      <th>3</th>\n",
       "      <td>0</td>\n",
       "      <td>icmp</td>\n",
       "      <td>25</td>\n",
       "      <td>2</td>\n",
       "      <td>232</td>\n",
       "      <td>8153</td>\n",
       "      <td>0</td>\n",
       "      <td>0</td>\n",
       "      <td>0</td>\n",
       "      <td>0</td>\n",
       "      <td>0</td>\n",
       "      <td>1</td>\n",
       "      <td>0</td>\n",
       "      <td>0</td>\n",
       "      <td>0</td>\n",
       "      <td>0</td>\n",
       "      <td>0</td>\n",
       "      <td>0</td>\n",
       "      <td>0</td>\n",
       "      <td>0</td>\n",
       "      <td>0</td>\n",
       "      <td>0</td>\n",
       "      <td>5</td>\n",
       "      <td>5</td>\n",
       "      <td>0.2</td>\n",
       "      <td>0.2</td>\n",
       "      <td>0.0</td>\n",
       "      <td>0.0</td>\n",
       "      <td>1.00</td>\n",
       "      <td>0.00</td>\n",
       "      <td>0.00</td>\n",
       "      <td>30</td>\n",
       "      <td>255</td>\n",
       "      <td>1.00</td>\n",
       "      <td>0.00</td>\n",
       "      <td>0.03</td>\n",
       "      <td>0.04</td>\n",
       "      <td>0.03</td>\n",
       "      <td>0.01</td>\n",
       "      <td>0.00</td>\n",
       "      <td>0.01</td>\n",
       "      <td>normal</td>\n",
       "    </tr>\n",
       "    <tr>\n",
       "      <th>4</th>\n",
       "      <td>0</td>\n",
       "      <td>icmp</td>\n",
       "      <td>25</td>\n",
       "      <td>2</td>\n",
       "      <td>199</td>\n",
       "      <td>420</td>\n",
       "      <td>0</td>\n",
       "      <td>0</td>\n",
       "      <td>0</td>\n",
       "      <td>0</td>\n",
       "      <td>0</td>\n",
       "      <td>1</td>\n",
       "      <td>0</td>\n",
       "      <td>0</td>\n",
       "      <td>0</td>\n",
       "      <td>0</td>\n",
       "      <td>0</td>\n",
       "      <td>0</td>\n",
       "      <td>0</td>\n",
       "      <td>0</td>\n",
       "      <td>0</td>\n",
       "      <td>0</td>\n",
       "      <td>30</td>\n",
       "      <td>32</td>\n",
       "      <td>0.0</td>\n",
       "      <td>0.0</td>\n",
       "      <td>0.0</td>\n",
       "      <td>0.0</td>\n",
       "      <td>1.00</td>\n",
       "      <td>0.00</td>\n",
       "      <td>0.09</td>\n",
       "      <td>255</td>\n",
       "      <td>255</td>\n",
       "      <td>1.00</td>\n",
       "      <td>0.00</td>\n",
       "      <td>0.00</td>\n",
       "      <td>0.00</td>\n",
       "      <td>0.00</td>\n",
       "      <td>0.00</td>\n",
       "      <td>0.00</td>\n",
       "      <td>0.00</td>\n",
       "      <td>normal</td>\n",
       "    </tr>\n",
       "  </tbody>\n",
       "</table>\n",
       "</div>"
      ],
      "text/plain": [
       "   duration protocol_type   ...     dst_host_srv_rerror_rate  xAttack\n",
       "0         0          icmp   ...                         0.00   normal\n",
       "1         0           udp   ...                         0.00   normal\n",
       "2         0          icmp   ...                         0.00      dos\n",
       "3         0          icmp   ...                         0.01   normal\n",
       "4         0          icmp   ...                         0.00   normal\n",
       "\n",
       "[5 rows x 42 columns]"
      ]
     },
     "execution_count": 2,
     "metadata": {},
     "output_type": "execute_result"
    }
   ],
   "source": [
    "df_train.head()"
   ]
  },
  {
   "cell_type": "code",
   "execution_count": 3,
   "metadata": {
    "_cell_guid": "0f5ba59d-72f7-4edc-8d75-492a9f70cbe9",
    "_uuid": "9370a0518fe52406fd3224eaff704a50a0428f83",
    "execution": {
     "iopub.execute_input": "2024-06-10T18:15:34.037155Z",
     "iopub.status.busy": "2024-06-10T18:15:34.036842Z",
     "iopub.status.idle": "2024-06-10T18:15:34.135208Z",
     "shell.execute_reply": "2024-06-10T18:15:34.134397Z",
     "shell.execute_reply.started": "2024-06-10T18:15:34.037094Z"
    }
   },
   "outputs": [
    {
     "data": {
      "text/html": [
       "<div>\n",
       "<style scoped>\n",
       "    .dataframe tbody tr th:only-of-type {\n",
       "        vertical-align: middle;\n",
       "    }\n",
       "\n",
       "    .dataframe tbody tr th {\n",
       "        vertical-align: top;\n",
       "    }\n",
       "\n",
       "    .dataframe thead th {\n",
       "        text-align: right;\n",
       "    }\n",
       "</style>\n",
       "<table border=\"1\" class=\"dataframe\">\n",
       "  <thead>\n",
       "    <tr style=\"text-align: right;\">\n",
       "      <th></th>\n",
       "      <th>duration</th>\n",
       "      <th>protocol_type</th>\n",
       "      <th>service</th>\n",
       "      <th>flag</th>\n",
       "      <th>src_bytes</th>\n",
       "      <th>dst_bytes</th>\n",
       "      <th>land</th>\n",
       "      <th>wrong_fragment</th>\n",
       "      <th>urgent</th>\n",
       "      <th>hot</th>\n",
       "      <th>num_failed_logins</th>\n",
       "      <th>logged_in</th>\n",
       "      <th>num_compromised</th>\n",
       "      <th>root_shell</th>\n",
       "      <th>su_attempted</th>\n",
       "      <th>num_root</th>\n",
       "      <th>num_file_creations</th>\n",
       "      <th>num_shells</th>\n",
       "      <th>num_access_files</th>\n",
       "      <th>num_outbound_cmds</th>\n",
       "      <th>is_host_login</th>\n",
       "      <th>is_guest_login</th>\n",
       "      <th>count</th>\n",
       "      <th>srv_count</th>\n",
       "      <th>serror_rate</th>\n",
       "      <th>srv_serror_rate</th>\n",
       "      <th>rerror_rate</th>\n",
       "      <th>srv_rerror_rate</th>\n",
       "      <th>same_srv_rate</th>\n",
       "      <th>diff_srv_rate</th>\n",
       "      <th>srv_diff_host_rate</th>\n",
       "      <th>dst_host_count</th>\n",
       "      <th>dst_host_srv_count</th>\n",
       "      <th>dst_host_same_srv_rate</th>\n",
       "      <th>dst_host_diff_srv_rate</th>\n",
       "      <th>dst_host_same_src_port_rate</th>\n",
       "      <th>dst_host_srv_diff_host_rate</th>\n",
       "      <th>dst_host_serror_rate</th>\n",
       "      <th>dst_host_srv_serror_rate</th>\n",
       "      <th>dst_host_rerror_rate</th>\n",
       "      <th>dst_host_srv_rerror_rate</th>\n",
       "      <th>xAttack</th>\n",
       "    </tr>\n",
       "  </thead>\n",
       "  <tbody>\n",
       "    <tr>\n",
       "      <th>0</th>\n",
       "      <td>0</td>\n",
       "      <td>icmp</td>\n",
       "      <td>25</td>\n",
       "      <td>4</td>\n",
       "      <td>0</td>\n",
       "      <td>0</td>\n",
       "      <td>0</td>\n",
       "      <td>0</td>\n",
       "      <td>0</td>\n",
       "      <td>0</td>\n",
       "      <td>0</td>\n",
       "      <td>0</td>\n",
       "      <td>0</td>\n",
       "      <td>0</td>\n",
       "      <td>0</td>\n",
       "      <td>0</td>\n",
       "      <td>0</td>\n",
       "      <td>0</td>\n",
       "      <td>0</td>\n",
       "      <td>0</td>\n",
       "      <td>0</td>\n",
       "      <td>0</td>\n",
       "      <td>110</td>\n",
       "      <td>110</td>\n",
       "      <td>1.0</td>\n",
       "      <td>1.0</td>\n",
       "      <td>0.0</td>\n",
       "      <td>0.0</td>\n",
       "      <td>1.0</td>\n",
       "      <td>0.0</td>\n",
       "      <td>0.00</td>\n",
       "      <td>255</td>\n",
       "      <td>255</td>\n",
       "      <td>1.00</td>\n",
       "      <td>0.00</td>\n",
       "      <td>0.00</td>\n",
       "      <td>0.00</td>\n",
       "      <td>0.65</td>\n",
       "      <td>0.65</td>\n",
       "      <td>0.32</td>\n",
       "      <td>0.32</td>\n",
       "      <td>dos</td>\n",
       "    </tr>\n",
       "    <tr>\n",
       "      <th>1</th>\n",
       "      <td>0</td>\n",
       "      <td>icmp</td>\n",
       "      <td>25</td>\n",
       "      <td>2</td>\n",
       "      <td>312</td>\n",
       "      <td>1856</td>\n",
       "      <td>0</td>\n",
       "      <td>0</td>\n",
       "      <td>0</td>\n",
       "      <td>0</td>\n",
       "      <td>0</td>\n",
       "      <td>1</td>\n",
       "      <td>0</td>\n",
       "      <td>0</td>\n",
       "      <td>0</td>\n",
       "      <td>0</td>\n",
       "      <td>0</td>\n",
       "      <td>0</td>\n",
       "      <td>0</td>\n",
       "      <td>0</td>\n",
       "      <td>0</td>\n",
       "      <td>0</td>\n",
       "      <td>1</td>\n",
       "      <td>9</td>\n",
       "      <td>0.0</td>\n",
       "      <td>0.0</td>\n",
       "      <td>0.0</td>\n",
       "      <td>0.0</td>\n",
       "      <td>1.0</td>\n",
       "      <td>0.0</td>\n",
       "      <td>0.33</td>\n",
       "      <td>1</td>\n",
       "      <td>254</td>\n",
       "      <td>1.00</td>\n",
       "      <td>0.00</td>\n",
       "      <td>1.00</td>\n",
       "      <td>0.06</td>\n",
       "      <td>0.00</td>\n",
       "      <td>0.00</td>\n",
       "      <td>0.00</td>\n",
       "      <td>0.00</td>\n",
       "      <td>normal</td>\n",
       "    </tr>\n",
       "    <tr>\n",
       "      <th>2</th>\n",
       "      <td>0</td>\n",
       "      <td>icmp</td>\n",
       "      <td>25</td>\n",
       "      <td>2</td>\n",
       "      <td>245</td>\n",
       "      <td>2058</td>\n",
       "      <td>0</td>\n",
       "      <td>0</td>\n",
       "      <td>0</td>\n",
       "      <td>0</td>\n",
       "      <td>0</td>\n",
       "      <td>1</td>\n",
       "      <td>0</td>\n",
       "      <td>0</td>\n",
       "      <td>0</td>\n",
       "      <td>0</td>\n",
       "      <td>0</td>\n",
       "      <td>0</td>\n",
       "      <td>0</td>\n",
       "      <td>0</td>\n",
       "      <td>0</td>\n",
       "      <td>0</td>\n",
       "      <td>5</td>\n",
       "      <td>5</td>\n",
       "      <td>0.0</td>\n",
       "      <td>0.0</td>\n",
       "      <td>0.0</td>\n",
       "      <td>0.0</td>\n",
       "      <td>1.0</td>\n",
       "      <td>0.0</td>\n",
       "      <td>0.00</td>\n",
       "      <td>114</td>\n",
       "      <td>255</td>\n",
       "      <td>1.00</td>\n",
       "      <td>0.00</td>\n",
       "      <td>0.01</td>\n",
       "      <td>0.05</td>\n",
       "      <td>0.01</td>\n",
       "      <td>0.00</td>\n",
       "      <td>0.00</td>\n",
       "      <td>0.00</td>\n",
       "      <td>normal</td>\n",
       "    </tr>\n",
       "    <tr>\n",
       "      <th>3</th>\n",
       "      <td>0</td>\n",
       "      <td>icmp</td>\n",
       "      <td>25</td>\n",
       "      <td>2</td>\n",
       "      <td>298</td>\n",
       "      <td>1267</td>\n",
       "      <td>0</td>\n",
       "      <td>0</td>\n",
       "      <td>0</td>\n",
       "      <td>0</td>\n",
       "      <td>0</td>\n",
       "      <td>1</td>\n",
       "      <td>0</td>\n",
       "      <td>0</td>\n",
       "      <td>0</td>\n",
       "      <td>0</td>\n",
       "      <td>0</td>\n",
       "      <td>0</td>\n",
       "      <td>0</td>\n",
       "      <td>0</td>\n",
       "      <td>0</td>\n",
       "      <td>0</td>\n",
       "      <td>4</td>\n",
       "      <td>18</td>\n",
       "      <td>0.0</td>\n",
       "      <td>0.0</td>\n",
       "      <td>0.0</td>\n",
       "      <td>0.0</td>\n",
       "      <td>1.0</td>\n",
       "      <td>0.0</td>\n",
       "      <td>0.11</td>\n",
       "      <td>255</td>\n",
       "      <td>255</td>\n",
       "      <td>1.00</td>\n",
       "      <td>0.00</td>\n",
       "      <td>0.00</td>\n",
       "      <td>0.00</td>\n",
       "      <td>0.00</td>\n",
       "      <td>0.00</td>\n",
       "      <td>0.00</td>\n",
       "      <td>0.00</td>\n",
       "      <td>normal</td>\n",
       "    </tr>\n",
       "    <tr>\n",
       "      <th>4</th>\n",
       "      <td>0</td>\n",
       "      <td>icmp</td>\n",
       "      <td>20</td>\n",
       "      <td>2</td>\n",
       "      <td>740</td>\n",
       "      <td>0</td>\n",
       "      <td>0</td>\n",
       "      <td>0</td>\n",
       "      <td>0</td>\n",
       "      <td>0</td>\n",
       "      <td>0</td>\n",
       "      <td>0</td>\n",
       "      <td>0</td>\n",
       "      <td>0</td>\n",
       "      <td>0</td>\n",
       "      <td>0</td>\n",
       "      <td>0</td>\n",
       "      <td>0</td>\n",
       "      <td>0</td>\n",
       "      <td>0</td>\n",
       "      <td>0</td>\n",
       "      <td>0</td>\n",
       "      <td>1</td>\n",
       "      <td>1</td>\n",
       "      <td>0.0</td>\n",
       "      <td>0.0</td>\n",
       "      <td>0.0</td>\n",
       "      <td>0.0</td>\n",
       "      <td>1.0</td>\n",
       "      <td>0.0</td>\n",
       "      <td>0.00</td>\n",
       "      <td>104</td>\n",
       "      <td>19</td>\n",
       "      <td>0.18</td>\n",
       "      <td>0.03</td>\n",
       "      <td>0.18</td>\n",
       "      <td>0.00</td>\n",
       "      <td>0.00</td>\n",
       "      <td>0.00</td>\n",
       "      <td>0.00</td>\n",
       "      <td>0.00</td>\n",
       "      <td>normal</td>\n",
       "    </tr>\n",
       "  </tbody>\n",
       "</table>\n",
       "</div>"
      ],
      "text/plain": [
       "   duration protocol_type   ...     dst_host_srv_rerror_rate  xAttack\n",
       "0         0          icmp   ...                         0.32      dos\n",
       "1         0          icmp   ...                         0.00   normal\n",
       "2         0          icmp   ...                         0.00   normal\n",
       "3         0          icmp   ...                         0.00   normal\n",
       "4         0          icmp   ...                         0.00   normal\n",
       "\n",
       "[5 rows x 42 columns]"
      ]
     },
     "execution_count": 3,
     "metadata": {},
     "output_type": "execute_result"
    }
   ],
   "source": [
    "df_test.head()"
   ]
  },
  {
   "cell_type": "markdown",
   "metadata": {
    "_cell_guid": "61fc250e-ce7d-4046-adc6-7943f694d319",
    "_uuid": "bc7fa31bd05d3c7e0f08faae251b4018adedd6ba"
   },
   "source": [
    "## Save training dataset and test dateaset to each df and split X and Y (xAttack, analysis features). \n",
    "\n",
    "Using the 41 attributes from both training and testing dataset to classify whether it is an attack(DOS/R2L/Probe/U2R/Normal)[5 labels]"
   ]
  },
  {
   "cell_type": "code",
   "execution_count": 4,
   "metadata": {
    "_cell_guid": "79ae1b78-ad06-4ff8-964f-5d64d206d11d",
    "_uuid": "8b82bcc8a65e3b04cfbd11931620fbffbdac52c3",
    "execution": {
     "iopub.execute_input": "2024-06-10T18:15:34.137007Z",
     "iopub.status.busy": "2024-06-10T18:15:34.136654Z",
     "iopub.status.idle": "2024-06-10T18:15:34.161921Z",
     "shell.execute_reply": "2024-06-10T18:15:34.161066Z",
     "shell.execute_reply.started": "2024-06-10T18:15:34.136948Z"
    }
   },
   "outputs": [],
   "source": [
    "#membagi masing-masing data menjadi X/Fitur dan Y/Target\n",
    "X_train = df_train.drop('xAttack', axis=1) \n",
    "Y_train = df_train.loc[:,['xAttack']] \n",
    "X_test = df_test.drop('xAttack', axis=1) \n",
    "Y_test = df_test.loc[:,['xAttack']]"
   ]
  },
  {
   "cell_type": "code",
   "execution_count": 5,
   "metadata": {
    "execution": {
     "iopub.execute_input": "2024-06-10T18:15:34.163839Z",
     "iopub.status.busy": "2024-06-10T18:15:34.163473Z",
     "iopub.status.idle": "2024-06-10T18:15:34.193930Z",
     "shell.execute_reply": "2024-06-10T18:15:34.192849Z",
     "shell.execute_reply.started": "2024-06-10T18:15:34.163755Z"
    }
   },
   "outputs": [
    {
     "name": "stdout",
     "output_type": "stream",
     "text": [
      "  xAttack\n",
      "0  normal\n",
      "1     dos\n",
      "2     r2l\n",
      "3   probe\n",
      "4     u2r\n"
     ]
    }
   ],
   "source": [
    "#cek semua nilai unik pada kolom xAttack\n",
    "print(Y_train.apply(lambda col: col.unique()))"
   ]
  },
  {
   "cell_type": "markdown",
   "metadata": {
    "_cell_guid": "b07e8a58-085a-4c04-9713-488bd0c50fea",
    "_uuid": "2035930bb9eafd19e2cb5906cb06ef6a0e50a619"
   },
   "source": [
    "## Preprocessing and one hot encoding, X is onehotencoder, Y is LabelBinarizer"
   ]
  },
  {
   "cell_type": "code",
   "execution_count": 6,
   "metadata": {
    "_cell_guid": "10694d3e-addd-49f8-be5b-25f3e9cc63a0",
    "_uuid": "0f2e3a1aa95525075b8eb064b9173b36f4b651f2",
    "execution": {
     "iopub.execute_input": "2024-06-10T18:15:34.196304Z",
     "iopub.status.busy": "2024-06-10T18:15:34.195889Z",
     "iopub.status.idle": "2024-06-10T18:15:34.201312Z",
     "shell.execute_reply": "2024-06-10T18:15:34.200224Z",
     "shell.execute_reply.started": "2024-06-10T18:15:34.196217Z"
    }
   },
   "outputs": [],
   "source": [
    "from sklearn import preprocessing\n",
    "from sklearn.preprocessing import OneHotEncoder"
   ]
  },
  {
   "cell_type": "code",
   "execution_count": 7,
   "metadata": {
    "_cell_guid": "58b70f7f-6ead-4b5e-8424-04660069681b",
    "_uuid": "193805a6a0e138e119a5d456b16fe468e84a683e",
    "execution": {
     "iopub.execute_input": "2024-06-10T18:15:34.203425Z",
     "iopub.status.busy": "2024-06-10T18:15:34.203062Z",
     "iopub.status.idle": "2024-06-10T18:15:34.212722Z",
     "shell.execute_reply": "2024-06-10T18:15:34.211923Z",
     "shell.execute_reply.started": "2024-06-10T18:15:34.203360Z"
    }
   },
   "outputs": [],
   "source": [
    "le = preprocessing.LabelEncoder() #ubah kategori menjadi numerik\n",
    "enc = OneHotEncoder() #ubah fitur kategori menjadi biner\n",
    "lb = preprocessing.LabelBinarizer() #ubah kategori menjadi array biner"
   ]
  },
  {
   "cell_type": "markdown",
   "metadata": {
    "_cell_guid": "e77eb2f4-abf2-4aa9-9d0c-25b311178cad",
    "_uuid": "0f641714525c947ac7a47103effad55c69f4a8be"
   },
   "source": [
    "### X OneHotEncoding"
   ]
  },
  {
   "cell_type": "code",
   "execution_count": 8,
   "metadata": {
    "_cell_guid": "95e6a442-3cb5-452a-b0a8-23eadf29418c",
    "_uuid": "ce401e8dbf4fa966d0fbc8a103fd795f0bf0a781",
    "execution": {
     "iopub.execute_input": "2024-06-10T18:15:34.214751Z",
     "iopub.status.busy": "2024-06-10T18:15:34.214482Z",
     "iopub.status.idle": "2024-06-10T18:15:34.354393Z",
     "shell.execute_reply": "2024-06-10T18:15:34.352945Z",
     "shell.execute_reply.started": "2024-06-10T18:15:34.214706Z"
    }
   },
   "outputs": [
    {
     "data": {
      "text/html": [
       "<div>\n",
       "<style scoped>\n",
       "    .dataframe tbody tr th:only-of-type {\n",
       "        vertical-align: middle;\n",
       "    }\n",
       "\n",
       "    .dataframe tbody tr th {\n",
       "        vertical-align: top;\n",
       "    }\n",
       "\n",
       "    .dataframe thead th {\n",
       "        text-align: right;\n",
       "    }\n",
       "</style>\n",
       "<table border=\"1\" class=\"dataframe\">\n",
       "  <thead>\n",
       "    <tr style=\"text-align: right;\">\n",
       "      <th></th>\n",
       "      <th>duration</th>\n",
       "      <th>protocol_type</th>\n",
       "      <th>service</th>\n",
       "      <th>flag</th>\n",
       "      <th>src_bytes</th>\n",
       "      <th>dst_bytes</th>\n",
       "      <th>land</th>\n",
       "      <th>wrong_fragment</th>\n",
       "      <th>urgent</th>\n",
       "      <th>hot</th>\n",
       "      <th>num_failed_logins</th>\n",
       "      <th>logged_in</th>\n",
       "      <th>num_compromised</th>\n",
       "      <th>root_shell</th>\n",
       "      <th>su_attempted</th>\n",
       "      <th>num_root</th>\n",
       "      <th>num_file_creations</th>\n",
       "      <th>num_shells</th>\n",
       "      <th>num_access_files</th>\n",
       "      <th>num_outbound_cmds</th>\n",
       "      <th>is_host_login</th>\n",
       "      <th>is_guest_login</th>\n",
       "      <th>count</th>\n",
       "      <th>srv_count</th>\n",
       "      <th>serror_rate</th>\n",
       "      <th>srv_serror_rate</th>\n",
       "      <th>rerror_rate</th>\n",
       "      <th>srv_rerror_rate</th>\n",
       "      <th>same_srv_rate</th>\n",
       "      <th>diff_srv_rate</th>\n",
       "      <th>srv_diff_host_rate</th>\n",
       "      <th>dst_host_count</th>\n",
       "      <th>dst_host_srv_count</th>\n",
       "      <th>dst_host_same_srv_rate</th>\n",
       "      <th>dst_host_diff_srv_rate</th>\n",
       "      <th>dst_host_same_src_port_rate</th>\n",
       "      <th>dst_host_srv_diff_host_rate</th>\n",
       "      <th>dst_host_serror_rate</th>\n",
       "      <th>dst_host_srv_serror_rate</th>\n",
       "      <th>dst_host_rerror_rate</th>\n",
       "      <th>dst_host_srv_rerror_rate</th>\n",
       "    </tr>\n",
       "  </thead>\n",
       "  <tbody>\n",
       "    <tr>\n",
       "      <th>0</th>\n",
       "      <td>0</td>\n",
       "      <td>0</td>\n",
       "      <td>20</td>\n",
       "      <td>2</td>\n",
       "      <td>491</td>\n",
       "      <td>0</td>\n",
       "      <td>0</td>\n",
       "      <td>0</td>\n",
       "      <td>0</td>\n",
       "      <td>0</td>\n",
       "      <td>0</td>\n",
       "      <td>0</td>\n",
       "      <td>0</td>\n",
       "      <td>0</td>\n",
       "      <td>0</td>\n",
       "      <td>0</td>\n",
       "      <td>0</td>\n",
       "      <td>0</td>\n",
       "      <td>0</td>\n",
       "      <td>0</td>\n",
       "      <td>0</td>\n",
       "      <td>0</td>\n",
       "      <td>2</td>\n",
       "      <td>2</td>\n",
       "      <td>0.0</td>\n",
       "      <td>0.0</td>\n",
       "      <td>0.0</td>\n",
       "      <td>0.0</td>\n",
       "      <td>1.00</td>\n",
       "      <td>0.00</td>\n",
       "      <td>0.00</td>\n",
       "      <td>150</td>\n",
       "      <td>25</td>\n",
       "      <td>0.17</td>\n",
       "      <td>0.03</td>\n",
       "      <td>0.17</td>\n",
       "      <td>0.00</td>\n",
       "      <td>0.00</td>\n",
       "      <td>0.00</td>\n",
       "      <td>0.05</td>\n",
       "      <td>0.00</td>\n",
       "    </tr>\n",
       "    <tr>\n",
       "      <th>1</th>\n",
       "      <td>0</td>\n",
       "      <td>2</td>\n",
       "      <td>45</td>\n",
       "      <td>2</td>\n",
       "      <td>146</td>\n",
       "      <td>0</td>\n",
       "      <td>0</td>\n",
       "      <td>0</td>\n",
       "      <td>0</td>\n",
       "      <td>0</td>\n",
       "      <td>0</td>\n",
       "      <td>0</td>\n",
       "      <td>0</td>\n",
       "      <td>0</td>\n",
       "      <td>0</td>\n",
       "      <td>0</td>\n",
       "      <td>0</td>\n",
       "      <td>0</td>\n",
       "      <td>0</td>\n",
       "      <td>0</td>\n",
       "      <td>0</td>\n",
       "      <td>0</td>\n",
       "      <td>13</td>\n",
       "      <td>1</td>\n",
       "      <td>0.0</td>\n",
       "      <td>0.0</td>\n",
       "      <td>0.0</td>\n",
       "      <td>0.0</td>\n",
       "      <td>0.08</td>\n",
       "      <td>0.15</td>\n",
       "      <td>0.00</td>\n",
       "      <td>255</td>\n",
       "      <td>1</td>\n",
       "      <td>0.00</td>\n",
       "      <td>0.60</td>\n",
       "      <td>0.88</td>\n",
       "      <td>0.00</td>\n",
       "      <td>0.00</td>\n",
       "      <td>0.00</td>\n",
       "      <td>0.00</td>\n",
       "      <td>0.00</td>\n",
       "    </tr>\n",
       "    <tr>\n",
       "      <th>2</th>\n",
       "      <td>0</td>\n",
       "      <td>0</td>\n",
       "      <td>50</td>\n",
       "      <td>4</td>\n",
       "      <td>0</td>\n",
       "      <td>0</td>\n",
       "      <td>0</td>\n",
       "      <td>0</td>\n",
       "      <td>0</td>\n",
       "      <td>0</td>\n",
       "      <td>0</td>\n",
       "      <td>0</td>\n",
       "      <td>0</td>\n",
       "      <td>0</td>\n",
       "      <td>0</td>\n",
       "      <td>0</td>\n",
       "      <td>0</td>\n",
       "      <td>0</td>\n",
       "      <td>0</td>\n",
       "      <td>0</td>\n",
       "      <td>0</td>\n",
       "      <td>0</td>\n",
       "      <td>123</td>\n",
       "      <td>6</td>\n",
       "      <td>1.0</td>\n",
       "      <td>1.0</td>\n",
       "      <td>0.0</td>\n",
       "      <td>0.0</td>\n",
       "      <td>0.05</td>\n",
       "      <td>0.07</td>\n",
       "      <td>0.00</td>\n",
       "      <td>255</td>\n",
       "      <td>26</td>\n",
       "      <td>0.10</td>\n",
       "      <td>0.05</td>\n",
       "      <td>0.00</td>\n",
       "      <td>0.00</td>\n",
       "      <td>1.00</td>\n",
       "      <td>1.00</td>\n",
       "      <td>0.00</td>\n",
       "      <td>0.00</td>\n",
       "    </tr>\n",
       "    <tr>\n",
       "      <th>3</th>\n",
       "      <td>0</td>\n",
       "      <td>0</td>\n",
       "      <td>25</td>\n",
       "      <td>2</td>\n",
       "      <td>232</td>\n",
       "      <td>8153</td>\n",
       "      <td>0</td>\n",
       "      <td>0</td>\n",
       "      <td>0</td>\n",
       "      <td>0</td>\n",
       "      <td>0</td>\n",
       "      <td>1</td>\n",
       "      <td>0</td>\n",
       "      <td>0</td>\n",
       "      <td>0</td>\n",
       "      <td>0</td>\n",
       "      <td>0</td>\n",
       "      <td>0</td>\n",
       "      <td>0</td>\n",
       "      <td>0</td>\n",
       "      <td>0</td>\n",
       "      <td>0</td>\n",
       "      <td>5</td>\n",
       "      <td>5</td>\n",
       "      <td>0.2</td>\n",
       "      <td>0.2</td>\n",
       "      <td>0.0</td>\n",
       "      <td>0.0</td>\n",
       "      <td>1.00</td>\n",
       "      <td>0.00</td>\n",
       "      <td>0.00</td>\n",
       "      <td>30</td>\n",
       "      <td>255</td>\n",
       "      <td>1.00</td>\n",
       "      <td>0.00</td>\n",
       "      <td>0.03</td>\n",
       "      <td>0.04</td>\n",
       "      <td>0.03</td>\n",
       "      <td>0.01</td>\n",
       "      <td>0.00</td>\n",
       "      <td>0.01</td>\n",
       "    </tr>\n",
       "    <tr>\n",
       "      <th>4</th>\n",
       "      <td>0</td>\n",
       "      <td>0</td>\n",
       "      <td>25</td>\n",
       "      <td>2</td>\n",
       "      <td>199</td>\n",
       "      <td>420</td>\n",
       "      <td>0</td>\n",
       "      <td>0</td>\n",
       "      <td>0</td>\n",
       "      <td>0</td>\n",
       "      <td>0</td>\n",
       "      <td>1</td>\n",
       "      <td>0</td>\n",
       "      <td>0</td>\n",
       "      <td>0</td>\n",
       "      <td>0</td>\n",
       "      <td>0</td>\n",
       "      <td>0</td>\n",
       "      <td>0</td>\n",
       "      <td>0</td>\n",
       "      <td>0</td>\n",
       "      <td>0</td>\n",
       "      <td>30</td>\n",
       "      <td>32</td>\n",
       "      <td>0.0</td>\n",
       "      <td>0.0</td>\n",
       "      <td>0.0</td>\n",
       "      <td>0.0</td>\n",
       "      <td>1.00</td>\n",
       "      <td>0.00</td>\n",
       "      <td>0.09</td>\n",
       "      <td>255</td>\n",
       "      <td>255</td>\n",
       "      <td>1.00</td>\n",
       "      <td>0.00</td>\n",
       "      <td>0.00</td>\n",
       "      <td>0.00</td>\n",
       "      <td>0.00</td>\n",
       "      <td>0.00</td>\n",
       "      <td>0.00</td>\n",
       "      <td>0.00</td>\n",
       "    </tr>\n",
       "  </tbody>\n",
       "</table>\n",
       "</div>"
      ],
      "text/plain": [
       "   duration            ...             dst_host_srv_rerror_rate\n",
       "0         0            ...                                 0.00\n",
       "1         0            ...                                 0.00\n",
       "2         0            ...                                 0.00\n",
       "3         0            ...                                 0.01\n",
       "4         0            ...                                 0.00\n",
       "\n",
       "[5 rows x 41 columns]"
      ]
     },
     "execution_count": 8,
     "metadata": {},
     "output_type": "execute_result"
    }
   ],
   "source": [
    "#menerapakan prapemrosesan pada dataset X/Fitur\n",
    "X_train['protocol_type'] = le.fit_transform(X_train['protocol_type'])\n",
    "# enc.fit_transform(X_train['protocol_type'])\n",
    "\n",
    "X_test['protocol_type'] = le.fit_transform(X_test['protocol_type'])\n",
    "# enc.fit_transform(X_test['protocol_type'])\n",
    "\n",
    "X_train.head()"
   ]
  },
  {
   "cell_type": "markdown",
   "metadata": {
    "_cell_guid": "165c6f9f-0e10-49e5-90f6-0be9d69fd907",
    "_uuid": "a2ed1559ce7d786d5fe0b1a088872bbf688dd1de"
   },
   "source": [
    "## Y LabelBinarizer"
   ]
  },
  {
   "cell_type": "code",
   "execution_count": 9,
   "metadata": {
    "_cell_guid": "81579637-fd13-4f26-be25-bc4add67fd9b",
    "_uuid": "40c2c9b5a73c6c014eb9abc889b6cdfdd5798a83",
    "execution": {
     "iopub.execute_input": "2024-06-10T18:15:34.356670Z",
     "iopub.status.busy": "2024-06-10T18:15:34.356130Z",
     "iopub.status.idle": "2024-06-10T18:15:34.461372Z",
     "shell.execute_reply": "2024-06-10T18:15:34.460399Z",
     "shell.execute_reply.started": "2024-06-10T18:15:34.356519Z"
    }
   },
   "outputs": [
    {
     "data": {
      "text/html": [
       "<div>\n",
       "<style scoped>\n",
       "    .dataframe tbody tr th:only-of-type {\n",
       "        vertical-align: middle;\n",
       "    }\n",
       "\n",
       "    .dataframe tbody tr th {\n",
       "        vertical-align: top;\n",
       "    }\n",
       "\n",
       "    .dataframe thead th {\n",
       "        text-align: right;\n",
       "    }\n",
       "</style>\n",
       "<table border=\"1\" class=\"dataframe\">\n",
       "  <thead>\n",
       "    <tr style=\"text-align: right;\">\n",
       "      <th></th>\n",
       "      <th>xAttack</th>\n",
       "    </tr>\n",
       "  </thead>\n",
       "  <tbody>\n",
       "    <tr>\n",
       "      <th>count</th>\n",
       "      <td>125973.000000</td>\n",
       "    </tr>\n",
       "    <tr>\n",
       "      <th>mean</th>\n",
       "      <td>0.744985</td>\n",
       "    </tr>\n",
       "    <tr>\n",
       "      <th>std</th>\n",
       "      <td>0.653748</td>\n",
       "    </tr>\n",
       "    <tr>\n",
       "      <th>min</th>\n",
       "      <td>0.000000</td>\n",
       "    </tr>\n",
       "    <tr>\n",
       "      <th>25%</th>\n",
       "      <td>0.000000</td>\n",
       "    </tr>\n",
       "    <tr>\n",
       "      <th>50%</th>\n",
       "      <td>1.000000</td>\n",
       "    </tr>\n",
       "    <tr>\n",
       "      <th>75%</th>\n",
       "      <td>1.000000</td>\n",
       "    </tr>\n",
       "    <tr>\n",
       "      <th>max</th>\n",
       "      <td>4.000000</td>\n",
       "    </tr>\n",
       "  </tbody>\n",
       "</table>\n",
       "</div>"
      ],
      "text/plain": [
       "             xAttack\n",
       "count  125973.000000\n",
       "mean        0.744985\n",
       "std         0.653748\n",
       "min         0.000000\n",
       "25%         0.000000\n",
       "50%         1.000000\n",
       "75%         1.000000\n",
       "max         4.000000"
      ]
     },
     "execution_count": 9,
     "metadata": {},
     "output_type": "execute_result"
    }
   ],
   "source": [
    "#menerapakan prapemrosesan pada dataset Y/Target\n",
    "Y_train['xAttack'] = le.fit_transform(Y_train['xAttack'])\n",
    "lb.fit_transform(Y_train['xAttack'])\n",
    "\n",
    "Y_test['xAttack'] = le.fit_transform(Y_test['xAttack'])\n",
    "lb.fit_transform(Y_test['xAttack'])\n",
    "\n",
    "Y_train.describe()"
   ]
  },
  {
   "cell_type": "markdown",
   "metadata": {
    "_cell_guid": "a01dff4a-5413-4111-be29-053ebbd939c1",
    "_uuid": "39744b8a0505221bf7f9eda3f3a90858be748be0"
   },
   "source": [
    "### 1. Standard deviation\n",
    "We have applied a method to exclude features with small standard deviation (small deviation). However, when the feature type is discrete, the deviation is small."
   ]
  },
  {
   "cell_type": "code",
   "execution_count": 10,
   "metadata": {
    "_cell_guid": "b2bd6692-0d3a-41c4-a270-1ea0cbee38a1",
    "_uuid": "f20d04d85758220bc28114b389dfaabf304a6171",
    "execution": {
     "iopub.execute_input": "2024-06-10T18:15:34.463314Z",
     "iopub.status.busy": "2024-06-10T18:15:34.462976Z",
     "iopub.status.idle": "2024-06-10T18:15:34.587310Z",
     "shell.execute_reply": "2024-06-10T18:15:34.586498Z",
     "shell.execute_reply.started": "2024-06-10T18:15:34.463251Z"
    }
   },
   "outputs": [
    {
     "data": {
      "text/html": [
       "<div>\n",
       "<style scoped>\n",
       "    .dataframe tbody tr th:only-of-type {\n",
       "        vertical-align: middle;\n",
       "    }\n",
       "\n",
       "    .dataframe tbody tr th {\n",
       "        vertical-align: top;\n",
       "    }\n",
       "\n",
       "    .dataframe thead th {\n",
       "        text-align: right;\n",
       "    }\n",
       "</style>\n",
       "<table border=\"1\" class=\"dataframe\">\n",
       "  <thead>\n",
       "    <tr style=\"text-align: right;\">\n",
       "      <th></th>\n",
       "      <th>0</th>\n",
       "    </tr>\n",
       "  </thead>\n",
       "  <tbody>\n",
       "    <tr>\n",
       "      <th>num_outbound_cmds</th>\n",
       "      <td>0.000000</td>\n",
       "    </tr>\n",
       "    <tr>\n",
       "      <th>urgent</th>\n",
       "      <td>0.014366</td>\n",
       "    </tr>\n",
       "    <tr>\n",
       "      <th>num_shells</th>\n",
       "      <td>0.022181</td>\n",
       "    </tr>\n",
       "    <tr>\n",
       "      <th>root_shell</th>\n",
       "      <td>0.036603</td>\n",
       "    </tr>\n",
       "    <tr>\n",
       "      <th>num_failed_logins</th>\n",
       "      <td>0.045239</td>\n",
       "    </tr>\n",
       "    <tr>\n",
       "      <th>num_access_files</th>\n",
       "      <td>0.099370</td>\n",
       "    </tr>\n",
       "    <tr>\n",
       "      <th>dst_host_srv_diff_host_rate</th>\n",
       "      <td>0.112564</td>\n",
       "    </tr>\n",
       "    <tr>\n",
       "      <th>diff_srv_rate</th>\n",
       "      <td>0.180314</td>\n",
       "    </tr>\n",
       "    <tr>\n",
       "      <th>dst_host_diff_srv_rate</th>\n",
       "      <td>0.188922</td>\n",
       "    </tr>\n",
       "    <tr>\n",
       "      <th>wrong_fragment</th>\n",
       "      <td>0.253530</td>\n",
       "    </tr>\n",
       "  </tbody>\n",
       "</table>\n",
       "</div>"
      ],
      "text/plain": [
       "                                    0\n",
       "num_outbound_cmds            0.000000\n",
       "urgent                       0.014366\n",
       "num_shells                   0.022181\n",
       "root_shell                   0.036603\n",
       "num_failed_logins            0.045239\n",
       "num_access_files             0.099370\n",
       "dst_host_srv_diff_host_rate  0.112564\n",
       "diff_srv_rate                0.180314\n",
       "dst_host_diff_srv_rate       0.188922\n",
       "wrong_fragment               0.253530"
      ]
     },
     "execution_count": 10,
     "metadata": {},
     "output_type": "execute_result"
    }
   ],
   "source": [
    "#kecualikan fitur yang digunakan berkelanjutan\n",
    "con_list = ['protocol_type', 'service', 'flag', 'land', 'logged_in', 'su_attempted', 'is_host_login', 'is_guest_login']\n",
    "con_train = X_train.drop(con_list, axis=1)\n",
    "\n",
    "#hapus fitur terkecil dan standar\n",
    "stdtrain = con_train.std(axis=0)\n",
    "std_X_train = stdtrain.to_frame()\n",
    "std_X_train.nsmallest(10, columns=0).head(10)"
   ]
  },
  {
   "cell_type": "markdown",
   "metadata": {
    "_cell_guid": "89f0397c-71c3-49ab-8322-e761dd250e5c",
    "_uuid": "5f60d8d834b4c5ac67da3cf58c4a8433a3362a47"
   },
   "source": [
    "num_outbound_cmds is removed from the first because the standard deviation is zero."
   ]
  },
  {
   "cell_type": "code",
   "execution_count": 11,
   "metadata": {
    "_cell_guid": "cad79de8-8cb0-4afc-b4dc-19a63487dbfd",
    "_uuid": "b12365a86a883362a443fbbf50bb1bae05fc1831",
    "execution": {
     "iopub.execute_input": "2024-06-10T18:15:34.589262Z",
     "iopub.status.busy": "2024-06-10T18:15:34.588940Z",
     "iopub.status.idle": "2024-06-10T18:15:34.716867Z",
     "shell.execute_reply": "2024-06-10T18:15:34.715959Z",
     "shell.execute_reply.started": "2024-06-10T18:15:34.589203Z"
    }
   },
   "outputs": [
    {
     "data": {
      "text/html": [
       "<div>\n",
       "<style scoped>\n",
       "    .dataframe tbody tr th:only-of-type {\n",
       "        vertical-align: middle;\n",
       "    }\n",
       "\n",
       "    .dataframe tbody tr th {\n",
       "        vertical-align: top;\n",
       "    }\n",
       "\n",
       "    .dataframe thead th {\n",
       "        text-align: right;\n",
       "    }\n",
       "</style>\n",
       "<table border=\"1\" class=\"dataframe\">\n",
       "  <thead>\n",
       "    <tr style=\"text-align: right;\">\n",
       "      <th></th>\n",
       "      <th>duration</th>\n",
       "      <th>protocol_type</th>\n",
       "      <th>service</th>\n",
       "      <th>flag</th>\n",
       "      <th>src_bytes</th>\n",
       "      <th>dst_bytes</th>\n",
       "      <th>land</th>\n",
       "      <th>wrong_fragment</th>\n",
       "      <th>urgent</th>\n",
       "      <th>hot</th>\n",
       "      <th>num_failed_logins</th>\n",
       "      <th>logged_in</th>\n",
       "      <th>num_compromised</th>\n",
       "      <th>root_shell</th>\n",
       "      <th>su_attempted</th>\n",
       "      <th>num_root</th>\n",
       "      <th>num_file_creations</th>\n",
       "      <th>num_shells</th>\n",
       "      <th>num_access_files</th>\n",
       "      <th>is_host_login</th>\n",
       "      <th>is_guest_login</th>\n",
       "      <th>count</th>\n",
       "      <th>srv_count</th>\n",
       "      <th>serror_rate</th>\n",
       "      <th>srv_serror_rate</th>\n",
       "      <th>rerror_rate</th>\n",
       "      <th>srv_rerror_rate</th>\n",
       "      <th>same_srv_rate</th>\n",
       "      <th>diff_srv_rate</th>\n",
       "      <th>srv_diff_host_rate</th>\n",
       "      <th>dst_host_count</th>\n",
       "      <th>dst_host_srv_count</th>\n",
       "      <th>dst_host_same_srv_rate</th>\n",
       "      <th>dst_host_diff_srv_rate</th>\n",
       "      <th>dst_host_same_src_port_rate</th>\n",
       "      <th>dst_host_srv_diff_host_rate</th>\n",
       "      <th>dst_host_serror_rate</th>\n",
       "      <th>dst_host_srv_serror_rate</th>\n",
       "      <th>dst_host_rerror_rate</th>\n",
       "      <th>dst_host_srv_rerror_rate</th>\n",
       "    </tr>\n",
       "  </thead>\n",
       "  <tbody>\n",
       "    <tr>\n",
       "      <th>0</th>\n",
       "      <td>0</td>\n",
       "      <td>0</td>\n",
       "      <td>20</td>\n",
       "      <td>2</td>\n",
       "      <td>491</td>\n",
       "      <td>0</td>\n",
       "      <td>0</td>\n",
       "      <td>0</td>\n",
       "      <td>0</td>\n",
       "      <td>0</td>\n",
       "      <td>0</td>\n",
       "      <td>0</td>\n",
       "      <td>0</td>\n",
       "      <td>0</td>\n",
       "      <td>0</td>\n",
       "      <td>0</td>\n",
       "      <td>0</td>\n",
       "      <td>0</td>\n",
       "      <td>0</td>\n",
       "      <td>0</td>\n",
       "      <td>0</td>\n",
       "      <td>2</td>\n",
       "      <td>2</td>\n",
       "      <td>0.0</td>\n",
       "      <td>0.0</td>\n",
       "      <td>0.0</td>\n",
       "      <td>0.0</td>\n",
       "      <td>1.00</td>\n",
       "      <td>0.00</td>\n",
       "      <td>0.00</td>\n",
       "      <td>150</td>\n",
       "      <td>25</td>\n",
       "      <td>0.17</td>\n",
       "      <td>0.03</td>\n",
       "      <td>0.17</td>\n",
       "      <td>0.00</td>\n",
       "      <td>0.00</td>\n",
       "      <td>0.00</td>\n",
       "      <td>0.05</td>\n",
       "      <td>0.00</td>\n",
       "    </tr>\n",
       "    <tr>\n",
       "      <th>1</th>\n",
       "      <td>0</td>\n",
       "      <td>2</td>\n",
       "      <td>45</td>\n",
       "      <td>2</td>\n",
       "      <td>146</td>\n",
       "      <td>0</td>\n",
       "      <td>0</td>\n",
       "      <td>0</td>\n",
       "      <td>0</td>\n",
       "      <td>0</td>\n",
       "      <td>0</td>\n",
       "      <td>0</td>\n",
       "      <td>0</td>\n",
       "      <td>0</td>\n",
       "      <td>0</td>\n",
       "      <td>0</td>\n",
       "      <td>0</td>\n",
       "      <td>0</td>\n",
       "      <td>0</td>\n",
       "      <td>0</td>\n",
       "      <td>0</td>\n",
       "      <td>13</td>\n",
       "      <td>1</td>\n",
       "      <td>0.0</td>\n",
       "      <td>0.0</td>\n",
       "      <td>0.0</td>\n",
       "      <td>0.0</td>\n",
       "      <td>0.08</td>\n",
       "      <td>0.15</td>\n",
       "      <td>0.00</td>\n",
       "      <td>255</td>\n",
       "      <td>1</td>\n",
       "      <td>0.00</td>\n",
       "      <td>0.60</td>\n",
       "      <td>0.88</td>\n",
       "      <td>0.00</td>\n",
       "      <td>0.00</td>\n",
       "      <td>0.00</td>\n",
       "      <td>0.00</td>\n",
       "      <td>0.00</td>\n",
       "    </tr>\n",
       "    <tr>\n",
       "      <th>2</th>\n",
       "      <td>0</td>\n",
       "      <td>0</td>\n",
       "      <td>50</td>\n",
       "      <td>4</td>\n",
       "      <td>0</td>\n",
       "      <td>0</td>\n",
       "      <td>0</td>\n",
       "      <td>0</td>\n",
       "      <td>0</td>\n",
       "      <td>0</td>\n",
       "      <td>0</td>\n",
       "      <td>0</td>\n",
       "      <td>0</td>\n",
       "      <td>0</td>\n",
       "      <td>0</td>\n",
       "      <td>0</td>\n",
       "      <td>0</td>\n",
       "      <td>0</td>\n",
       "      <td>0</td>\n",
       "      <td>0</td>\n",
       "      <td>0</td>\n",
       "      <td>123</td>\n",
       "      <td>6</td>\n",
       "      <td>1.0</td>\n",
       "      <td>1.0</td>\n",
       "      <td>0.0</td>\n",
       "      <td>0.0</td>\n",
       "      <td>0.05</td>\n",
       "      <td>0.07</td>\n",
       "      <td>0.00</td>\n",
       "      <td>255</td>\n",
       "      <td>26</td>\n",
       "      <td>0.10</td>\n",
       "      <td>0.05</td>\n",
       "      <td>0.00</td>\n",
       "      <td>0.00</td>\n",
       "      <td>1.00</td>\n",
       "      <td>1.00</td>\n",
       "      <td>0.00</td>\n",
       "      <td>0.00</td>\n",
       "    </tr>\n",
       "    <tr>\n",
       "      <th>3</th>\n",
       "      <td>0</td>\n",
       "      <td>0</td>\n",
       "      <td>25</td>\n",
       "      <td>2</td>\n",
       "      <td>232</td>\n",
       "      <td>8153</td>\n",
       "      <td>0</td>\n",
       "      <td>0</td>\n",
       "      <td>0</td>\n",
       "      <td>0</td>\n",
       "      <td>0</td>\n",
       "      <td>1</td>\n",
       "      <td>0</td>\n",
       "      <td>0</td>\n",
       "      <td>0</td>\n",
       "      <td>0</td>\n",
       "      <td>0</td>\n",
       "      <td>0</td>\n",
       "      <td>0</td>\n",
       "      <td>0</td>\n",
       "      <td>0</td>\n",
       "      <td>5</td>\n",
       "      <td>5</td>\n",
       "      <td>0.2</td>\n",
       "      <td>0.2</td>\n",
       "      <td>0.0</td>\n",
       "      <td>0.0</td>\n",
       "      <td>1.00</td>\n",
       "      <td>0.00</td>\n",
       "      <td>0.00</td>\n",
       "      <td>30</td>\n",
       "      <td>255</td>\n",
       "      <td>1.00</td>\n",
       "      <td>0.00</td>\n",
       "      <td>0.03</td>\n",
       "      <td>0.04</td>\n",
       "      <td>0.03</td>\n",
       "      <td>0.01</td>\n",
       "      <td>0.00</td>\n",
       "      <td>0.01</td>\n",
       "    </tr>\n",
       "    <tr>\n",
       "      <th>4</th>\n",
       "      <td>0</td>\n",
       "      <td>0</td>\n",
       "      <td>25</td>\n",
       "      <td>2</td>\n",
       "      <td>199</td>\n",
       "      <td>420</td>\n",
       "      <td>0</td>\n",
       "      <td>0</td>\n",
       "      <td>0</td>\n",
       "      <td>0</td>\n",
       "      <td>0</td>\n",
       "      <td>1</td>\n",
       "      <td>0</td>\n",
       "      <td>0</td>\n",
       "      <td>0</td>\n",
       "      <td>0</td>\n",
       "      <td>0</td>\n",
       "      <td>0</td>\n",
       "      <td>0</td>\n",
       "      <td>0</td>\n",
       "      <td>0</td>\n",
       "      <td>30</td>\n",
       "      <td>32</td>\n",
       "      <td>0.0</td>\n",
       "      <td>0.0</td>\n",
       "      <td>0.0</td>\n",
       "      <td>0.0</td>\n",
       "      <td>1.00</td>\n",
       "      <td>0.00</td>\n",
       "      <td>0.09</td>\n",
       "      <td>255</td>\n",
       "      <td>255</td>\n",
       "      <td>1.00</td>\n",
       "      <td>0.00</td>\n",
       "      <td>0.00</td>\n",
       "      <td>0.00</td>\n",
       "      <td>0.00</td>\n",
       "      <td>0.00</td>\n",
       "      <td>0.00</td>\n",
       "      <td>0.00</td>\n",
       "    </tr>\n",
       "  </tbody>\n",
       "</table>\n",
       "</div>"
      ],
      "text/plain": [
       "   duration            ...             dst_host_srv_rerror_rate\n",
       "0         0            ...                                 0.00\n",
       "1         0            ...                                 0.00\n",
       "2         0            ...                                 0.00\n",
       "3         0            ...                                 0.01\n",
       "4         0            ...                                 0.00\n",
       "\n",
       "[5 rows x 40 columns]"
      ]
     },
     "execution_count": 11,
     "metadata": {},
     "output_type": "execute_result"
    }
   ],
   "source": [
    "X_train = X_train.drop(['num_outbound_cmds'], axis=1)\n",
    "X_test = X_test.drop(['num_outbound_cmds'], axis=1)\n",
    "\n",
    "df_train = pd.concat([X_train, Y_train], axis=1) #menggabungkan X_train dan Y_train\n",
    "df_train.head()\n",
    "\n",
    "X_train.head()"
   ]
  },
  {
   "cell_type": "markdown",
   "metadata": {
    "_cell_guid": "0ae413eb-04f4-411c-8779-63ce346e5445",
    "_uuid": "de438268e23aa121bb31424d42c00f150d7db5b5"
   },
   "source": [
    "Std picks the 10 low and stores the features in drop -> X_train_stdrop. (Will be used after ensemble feature selection)"
   ]
  },
  {
   "cell_type": "code",
   "execution_count": 12,
   "metadata": {
    "_cell_guid": "b5910eb2-a2f0-48d2-8dbe-bc79060b5723",
    "_uuid": "d354b008daa466e55e63cc75727720bb0c2e2510",
    "execution": {
     "iopub.execute_input": "2024-06-10T18:15:34.718460Z",
     "iopub.status.busy": "2024-06-10T18:15:34.718181Z",
     "iopub.status.idle": "2024-06-10T18:15:34.826638Z",
     "shell.execute_reply": "2024-06-10T18:15:34.825724Z",
     "shell.execute_reply.started": "2024-06-10T18:15:34.718408Z"
    }
   },
   "outputs": [
    {
     "data": {
      "text/html": [
       "<div>\n",
       "<style scoped>\n",
       "    .dataframe tbody tr th:only-of-type {\n",
       "        vertical-align: middle;\n",
       "    }\n",
       "\n",
       "    .dataframe tbody tr th {\n",
       "        vertical-align: top;\n",
       "    }\n",
       "\n",
       "    .dataframe thead th {\n",
       "        text-align: right;\n",
       "    }\n",
       "</style>\n",
       "<table border=\"1\" class=\"dataframe\">\n",
       "  <thead>\n",
       "    <tr style=\"text-align: right;\">\n",
       "      <th></th>\n",
       "      <th>duration</th>\n",
       "      <th>protocol_type</th>\n",
       "      <th>service</th>\n",
       "      <th>flag</th>\n",
       "      <th>src_bytes</th>\n",
       "      <th>dst_bytes</th>\n",
       "      <th>land</th>\n",
       "      <th>hot</th>\n",
       "      <th>logged_in</th>\n",
       "      <th>num_compromised</th>\n",
       "      <th>su_attempted</th>\n",
       "      <th>num_root</th>\n",
       "      <th>num_file_creations</th>\n",
       "      <th>is_host_login</th>\n",
       "      <th>is_guest_login</th>\n",
       "      <th>count</th>\n",
       "      <th>srv_count</th>\n",
       "      <th>serror_rate</th>\n",
       "      <th>srv_serror_rate</th>\n",
       "      <th>rerror_rate</th>\n",
       "      <th>srv_rerror_rate</th>\n",
       "      <th>same_srv_rate</th>\n",
       "      <th>srv_diff_host_rate</th>\n",
       "      <th>dst_host_count</th>\n",
       "      <th>dst_host_srv_count</th>\n",
       "      <th>dst_host_same_srv_rate</th>\n",
       "      <th>dst_host_same_src_port_rate</th>\n",
       "      <th>dst_host_serror_rate</th>\n",
       "      <th>dst_host_srv_serror_rate</th>\n",
       "      <th>dst_host_rerror_rate</th>\n",
       "      <th>dst_host_srv_rerror_rate</th>\n",
       "      <th>xAttack</th>\n",
       "    </tr>\n",
       "  </thead>\n",
       "  <tbody>\n",
       "    <tr>\n",
       "      <th>0</th>\n",
       "      <td>0</td>\n",
       "      <td>0</td>\n",
       "      <td>20</td>\n",
       "      <td>2</td>\n",
       "      <td>491</td>\n",
       "      <td>0</td>\n",
       "      <td>0</td>\n",
       "      <td>0</td>\n",
       "      <td>0</td>\n",
       "      <td>0</td>\n",
       "      <td>0</td>\n",
       "      <td>0</td>\n",
       "      <td>0</td>\n",
       "      <td>0</td>\n",
       "      <td>0</td>\n",
       "      <td>2</td>\n",
       "      <td>2</td>\n",
       "      <td>0.0</td>\n",
       "      <td>0.0</td>\n",
       "      <td>0.0</td>\n",
       "      <td>0.0</td>\n",
       "      <td>1.00</td>\n",
       "      <td>0.00</td>\n",
       "      <td>150</td>\n",
       "      <td>25</td>\n",
       "      <td>0.17</td>\n",
       "      <td>0.17</td>\n",
       "      <td>0.00</td>\n",
       "      <td>0.00</td>\n",
       "      <td>0.05</td>\n",
       "      <td>0.00</td>\n",
       "      <td>1</td>\n",
       "    </tr>\n",
       "    <tr>\n",
       "      <th>1</th>\n",
       "      <td>0</td>\n",
       "      <td>2</td>\n",
       "      <td>45</td>\n",
       "      <td>2</td>\n",
       "      <td>146</td>\n",
       "      <td>0</td>\n",
       "      <td>0</td>\n",
       "      <td>0</td>\n",
       "      <td>0</td>\n",
       "      <td>0</td>\n",
       "      <td>0</td>\n",
       "      <td>0</td>\n",
       "      <td>0</td>\n",
       "      <td>0</td>\n",
       "      <td>0</td>\n",
       "      <td>13</td>\n",
       "      <td>1</td>\n",
       "      <td>0.0</td>\n",
       "      <td>0.0</td>\n",
       "      <td>0.0</td>\n",
       "      <td>0.0</td>\n",
       "      <td>0.08</td>\n",
       "      <td>0.00</td>\n",
       "      <td>255</td>\n",
       "      <td>1</td>\n",
       "      <td>0.00</td>\n",
       "      <td>0.88</td>\n",
       "      <td>0.00</td>\n",
       "      <td>0.00</td>\n",
       "      <td>0.00</td>\n",
       "      <td>0.00</td>\n",
       "      <td>1</td>\n",
       "    </tr>\n",
       "    <tr>\n",
       "      <th>2</th>\n",
       "      <td>0</td>\n",
       "      <td>0</td>\n",
       "      <td>50</td>\n",
       "      <td>4</td>\n",
       "      <td>0</td>\n",
       "      <td>0</td>\n",
       "      <td>0</td>\n",
       "      <td>0</td>\n",
       "      <td>0</td>\n",
       "      <td>0</td>\n",
       "      <td>0</td>\n",
       "      <td>0</td>\n",
       "      <td>0</td>\n",
       "      <td>0</td>\n",
       "      <td>0</td>\n",
       "      <td>123</td>\n",
       "      <td>6</td>\n",
       "      <td>1.0</td>\n",
       "      <td>1.0</td>\n",
       "      <td>0.0</td>\n",
       "      <td>0.0</td>\n",
       "      <td>0.05</td>\n",
       "      <td>0.00</td>\n",
       "      <td>255</td>\n",
       "      <td>26</td>\n",
       "      <td>0.10</td>\n",
       "      <td>0.00</td>\n",
       "      <td>1.00</td>\n",
       "      <td>1.00</td>\n",
       "      <td>0.00</td>\n",
       "      <td>0.00</td>\n",
       "      <td>0</td>\n",
       "    </tr>\n",
       "    <tr>\n",
       "      <th>3</th>\n",
       "      <td>0</td>\n",
       "      <td>0</td>\n",
       "      <td>25</td>\n",
       "      <td>2</td>\n",
       "      <td>232</td>\n",
       "      <td>8153</td>\n",
       "      <td>0</td>\n",
       "      <td>0</td>\n",
       "      <td>1</td>\n",
       "      <td>0</td>\n",
       "      <td>0</td>\n",
       "      <td>0</td>\n",
       "      <td>0</td>\n",
       "      <td>0</td>\n",
       "      <td>0</td>\n",
       "      <td>5</td>\n",
       "      <td>5</td>\n",
       "      <td>0.2</td>\n",
       "      <td>0.2</td>\n",
       "      <td>0.0</td>\n",
       "      <td>0.0</td>\n",
       "      <td>1.00</td>\n",
       "      <td>0.00</td>\n",
       "      <td>30</td>\n",
       "      <td>255</td>\n",
       "      <td>1.00</td>\n",
       "      <td>0.03</td>\n",
       "      <td>0.03</td>\n",
       "      <td>0.01</td>\n",
       "      <td>0.00</td>\n",
       "      <td>0.01</td>\n",
       "      <td>1</td>\n",
       "    </tr>\n",
       "    <tr>\n",
       "      <th>4</th>\n",
       "      <td>0</td>\n",
       "      <td>0</td>\n",
       "      <td>25</td>\n",
       "      <td>2</td>\n",
       "      <td>199</td>\n",
       "      <td>420</td>\n",
       "      <td>0</td>\n",
       "      <td>0</td>\n",
       "      <td>1</td>\n",
       "      <td>0</td>\n",
       "      <td>0</td>\n",
       "      <td>0</td>\n",
       "      <td>0</td>\n",
       "      <td>0</td>\n",
       "      <td>0</td>\n",
       "      <td>30</td>\n",
       "      <td>32</td>\n",
       "      <td>0.0</td>\n",
       "      <td>0.0</td>\n",
       "      <td>0.0</td>\n",
       "      <td>0.0</td>\n",
       "      <td>1.00</td>\n",
       "      <td>0.09</td>\n",
       "      <td>255</td>\n",
       "      <td>255</td>\n",
       "      <td>1.00</td>\n",
       "      <td>0.00</td>\n",
       "      <td>0.00</td>\n",
       "      <td>0.00</td>\n",
       "      <td>0.00</td>\n",
       "      <td>0.00</td>\n",
       "      <td>1</td>\n",
       "    </tr>\n",
       "  </tbody>\n",
       "</table>\n",
       "</div>"
      ],
      "text/plain": [
       "   duration  protocol_type   ...     dst_host_srv_rerror_rate  xAttack\n",
       "0         0              0   ...                         0.00        1\n",
       "1         0              2   ...                         0.00        1\n",
       "2         0              0   ...                         0.00        0\n",
       "3         0              0   ...                         0.01        1\n",
       "4         0              0   ...                         0.00        1\n",
       "\n",
       "[5 rows x 32 columns]"
      ]
     },
     "execution_count": 12,
     "metadata": {},
     "output_type": "execute_result"
    }
   ],
   "source": [
    "stdrop_list = ['urgent', 'num_shells', 'root_shell',\n",
    "        'num_failed_logins', 'num_access_files', 'dst_host_srv_diff_host_rate',\n",
    "        'diff_srv_rate', 'dst_host_diff_srv_rate', 'wrong_fragment']\n",
    "\n",
    "X_test_stdrop = X_test.drop(stdrop_list, axis=1)\n",
    "\n",
    "X_train_stdrop = X_train.drop(stdrop_list, axis=1)\n",
    "\n",
    "df_train_stdrop = pd.concat([X_train_stdrop, Y_train], axis=1) #menggabungkan X_train_stdrop dan Y_train\n",
    "\n",
    "df_train_stdrop.head()"
   ]
  },
  {
   "cell_type": "markdown",
   "metadata": {
    "_cell_guid": "b3ead6de-6e65-4150-aee3-48c2237e0c89",
    "_uuid": "37852d92d7edb4ffab7e7eefd919f9862670b8a3"
   },
   "source": [
    "Baseline - Learn about performance with linear regression"
   ]
  },
  {
   "cell_type": "markdown",
   "metadata": {
    "_cell_guid": "3f4204d1-84ef-438b-be32-1529d3ffa1b8",
    "_uuid": "a88236cb7fb27803dfb3b2f145e58518542b91f0"
   },
   "source": [
    "- Linear regression"
   ]
  },
  {
   "cell_type": "code",
   "execution_count": 13,
   "metadata": {
    "_cell_guid": "2bea2710-d18d-499a-aa5c-bc96caee6b4b",
    "_uuid": "d89de686669eebd8d37e161f1794e9a8676f95ad",
    "execution": {
     "iopub.execute_input": "2024-06-10T18:15:34.828600Z",
     "iopub.status.busy": "2024-06-10T18:15:34.828209Z",
     "iopub.status.idle": "2024-06-10T18:15:34.833659Z",
     "shell.execute_reply": "2024-06-10T18:15:34.832370Z",
     "shell.execute_reply.started": "2024-06-10T18:15:34.828516Z"
    }
   },
   "outputs": [],
   "source": [
    "from sklearn import linear_model"
   ]
  },
  {
   "cell_type": "code",
   "execution_count": 14,
   "metadata": {
    "_cell_guid": "4f3b1c0f-122b-4df0-b4a7-bfd0dde259a4",
    "_uuid": "368bcf954e102e2ea34a10f4f9d0b4816b19fef1",
    "execution": {
     "iopub.execute_input": "2024-06-10T18:15:34.835626Z",
     "iopub.status.busy": "2024-06-10T18:15:34.835303Z",
     "iopub.status.idle": "2024-06-10T18:15:34.845015Z",
     "shell.execute_reply": "2024-06-10T18:15:34.843931Z",
     "shell.execute_reply.started": "2024-06-10T18:15:34.835564Z"
    }
   },
   "outputs": [],
   "source": [
    "LR = linear_model.LinearRegression()"
   ]
  },
  {
   "cell_type": "code",
   "execution_count": 15,
   "metadata": {
    "_cell_guid": "e96da0f8-19c2-429c-9f73-a097a0f5de18",
    "_uuid": "7babbd4a1225e7f80ba3bac8978c330cd18551ae",
    "execution": {
     "iopub.execute_input": "2024-06-10T18:15:34.847052Z",
     "iopub.status.busy": "2024-06-10T18:15:34.846683Z",
     "iopub.status.idle": "2024-06-10T18:15:34.986361Z",
     "shell.execute_reply": "2024-06-10T18:15:34.985494Z",
     "shell.execute_reply.started": "2024-06-10T18:15:34.846989Z"
    }
   },
   "outputs": [
    {
     "data": {
      "text/plain": [
       "LinearRegression(copy_X=True, fit_intercept=True, n_jobs=None,\n",
       "         normalize=False)"
      ]
     },
     "execution_count": 15,
     "metadata": {},
     "output_type": "execute_result"
    }
   ],
   "source": [
    "LR.fit(X_train, Y_train)"
   ]
  },
  {
   "cell_type": "code",
   "execution_count": 16,
   "metadata": {
    "_cell_guid": "b8f0a17e-671f-476e-bd7b-6f28f96ce535",
    "_uuid": "5df91861fee8df64e9c0655e2252647e14707bac",
    "execution": {
     "iopub.execute_input": "2024-06-10T18:15:34.988438Z",
     "iopub.status.busy": "2024-06-10T18:15:34.988096Z",
     "iopub.status.idle": "2024-06-10T18:15:35.006096Z",
     "shell.execute_reply": "2024-06-10T18:15:35.004541Z",
     "shell.execute_reply.started": "2024-06-10T18:15:34.988380Z"
    }
   },
   "outputs": [
    {
     "name": "stdout",
     "output_type": "stream",
     "text": [
      "Linear regression processing ,,,\n",
      "Linear regression Score: 0.33 %\n"
     ]
    }
   ],
   "source": [
    "lr_score = LR.score(X_test, Y_test)\n",
    "print('Linear regression processing ,,,')\n",
    "print('Linear regression Score: %.2f %%' % lr_score)"
   ]
  },
  {
   "cell_type": "markdown",
   "metadata": {
    "_cell_guid": "8200920f-d69b-487b-8e19-19a998cd22b4",
    "_uuid": "fce5178f0791e2b90cc53ec020b2ac5915a84cd9"
   },
   "source": [
    "The linear regression yields only 33% probability."
   ]
  },
  {
   "cell_type": "markdown",
   "metadata": {
    "_cell_guid": "2f3b3e66-a2bf-4339-916c-fc2d36aa8893",
    "_uuid": "0ba8a51a9459b8611d2987dc7bd401bde3e17520"
   },
   "source": [
    "### 2. Ensemble feature selection\n",
    "Ensemble Modeling can see how the feature affected each model. Therefore, we tried feature selection around those features (attempt to remove Irrelevant feature)."
   ]
  },
  {
   "cell_type": "code",
   "execution_count": 17,
   "metadata": {
    "_cell_guid": "87393777-760d-46ef-953a-3907d983f5c7",
    "_uuid": "841c09d39671098d22423f7db1277a0842e4f223",
    "execution": {
     "iopub.execute_input": "2024-06-10T18:15:35.011582Z",
     "iopub.status.busy": "2024-06-10T18:15:35.010369Z",
     "iopub.status.idle": "2024-06-10T18:15:35.025137Z",
     "shell.execute_reply": "2024-06-10T18:15:35.023204Z",
     "shell.execute_reply.started": "2024-06-10T18:15:35.010853Z"
    }
   },
   "outputs": [],
   "source": [
    "from sklearn.ensemble import AdaBoostClassifier\n",
    "from sklearn.ensemble import RandomForestClassifier\n",
    "from sklearn.ensemble import BaggingClassifier\n",
    "from sklearn.ensemble import ExtraTreesClassifier\n",
    "from sklearn.ensemble import GradientBoostingClassifier\n",
    "\n",
    "from sklearn.tree import DecisionTreeClassifier"
   ]
  },
  {
   "cell_type": "code",
   "execution_count": 18,
   "metadata": {
    "_cell_guid": "dc0750ec-89bc-4848-92c2-bfab118cd616",
    "_uuid": "d2302e128c80fec4a89f6289464aec7574127f2f",
    "execution": {
     "iopub.execute_input": "2024-06-10T18:15:35.028746Z",
     "iopub.status.busy": "2024-06-10T18:15:35.027733Z",
     "iopub.status.idle": "2024-06-10T18:15:35.039102Z",
     "shell.execute_reply": "2024-06-10T18:15:35.037529Z",
     "shell.execute_reply.started": "2024-06-10T18:15:35.028371Z"
    }
   },
   "outputs": [],
   "source": [
    "#definisikan model ensemble yang digunakan\n",
    "AB = AdaBoostClassifier(base_estimator=DecisionTreeClassifier(), n_estimators=100, learning_rate=1.0)\n",
    "RF = RandomForestClassifier(n_estimators=10, criterion='entropy', max_features='auto', bootstrap=True)\n",
    "ET = ExtraTreesClassifier(n_estimators=10, criterion='gini', max_features='auto', bootstrap=False)\n",
    "GB = GradientBoostingClassifier(loss='deviance', learning_rate=0.1, n_estimators=200, max_features='auto')"
   ]
  },
  {
   "cell_type": "code",
   "execution_count": 19,
   "metadata": {
    "_cell_guid": "662c7500-15c9-4d64-a98d-1539e1884837",
    "_uuid": "c863818c7db7bda6bd46862a56bdd973faf7b852",
    "execution": {
     "iopub.execute_input": "2024-06-10T18:15:35.044730Z",
     "iopub.status.busy": "2024-06-10T18:15:35.041364Z",
     "iopub.status.idle": "2024-06-10T18:15:35.077441Z",
     "shell.execute_reply": "2024-06-10T18:15:35.076009Z",
     "shell.execute_reply.started": "2024-06-10T18:15:35.044356Z"
    }
   },
   "outputs": [],
   "source": [
    "y_train = Y_train['xAttack'].ravel()\n",
    "x_train = X_train.values\n",
    "x_test = X_test.values"
   ]
  },
  {
   "cell_type": "markdown",
   "metadata": {
    "_cell_guid": "5bf64821-e1cb-4566-bd21-47b40fe5049d",
    "_uuid": "99a62ea1400e32f8f954f8aa2d199a16c4c5e66d"
   },
   "source": [
    "Check the feature importances to see how accurate the basic features are."
   ]
  },
  {
   "cell_type": "code",
   "execution_count": 20,
   "metadata": {
    "_cell_guid": "600860d2-fd41-44b5-a925-608383918cc7",
    "_uuid": "185f7b04f0d6969b7f7fd93ed791d1c07430864d",
    "execution": {
     "iopub.execute_input": "2024-06-10T18:15:35.080497Z",
     "iopub.status.busy": "2024-06-10T18:15:35.079654Z",
     "iopub.status.idle": "2024-06-10T18:17:39.165753Z",
     "shell.execute_reply": "2024-06-10T18:17:39.164666Z",
     "shell.execute_reply.started": "2024-06-10T18:15:35.080396Z"
    }
   },
   "outputs": [
    {
     "data": {
      "text/plain": [
       "AdaBoostClassifier(algorithm='SAMME.R',\n",
       "          base_estimator=DecisionTreeClassifier(class_weight=None, criterion='gini', max_depth=None,\n",
       "            max_features=None, max_leaf_nodes=None,\n",
       "            min_impurity_decrease=0.0, min_impurity_split=None,\n",
       "            min_samples_leaf=1, min_samples_split=2,\n",
       "            min_weight_fraction_leaf=0.0, presort=False, random_state=None,\n",
       "            splitter='best'),\n",
       "          learning_rate=1.0, n_estimators=100, random_state=None)"
      ]
     },
     "execution_count": 20,
     "metadata": {},
     "output_type": "execute_result"
    }
   ],
   "source": [
    "AB.fit(X_train, Y_train)"
   ]
  },
  {
   "cell_type": "code",
   "execution_count": 21,
   "metadata": {
    "_cell_guid": "c91d81f6-ffa2-40e9-bcfc-c1e47dd7f059",
    "_uuid": "a94eba48c02912eea57bddab2911538a5eb6744c",
    "execution": {
     "iopub.execute_input": "2024-06-10T18:17:39.167519Z",
     "iopub.status.busy": "2024-06-10T18:17:39.167206Z",
     "iopub.status.idle": "2024-06-10T18:17:39.495089Z",
     "shell.execute_reply": "2024-06-10T18:17:39.494319Z",
     "shell.execute_reply.started": "2024-06-10T18:17:39.167451Z"
    }
   },
   "outputs": [
    {
     "name": "stdout",
     "output_type": "stream",
     "text": [
      "AdaBoostClassifier processing ,,,\n",
      "AdaBoostClassifier Score: 0.764 %\n"
     ]
    }
   ],
   "source": [
    "AB_feature = AB.feature_importances_\n",
    "AB_feature\n",
    "\n",
    "ab_score = AB.score(X_test, Y_test)\n",
    "\n",
    "print('AdaBoostClassifier processing ,,,')\n",
    "print('AdaBoostClassifier Score: %.3f %%' % ab_score)"
   ]
  },
  {
   "cell_type": "code",
   "execution_count": 22,
   "metadata": {
    "_cell_guid": "a64f7edf-0090-452f-bc09-c5b10d1758e5",
    "_uuid": "92dd5f4652338ea01067bd588049c4de29b38b06",
    "execution": {
     "iopub.execute_input": "2024-06-10T18:17:39.497018Z",
     "iopub.status.busy": "2024-06-10T18:17:39.496718Z",
     "iopub.status.idle": "2024-06-10T18:17:41.072775Z",
     "shell.execute_reply": "2024-06-10T18:17:41.071870Z",
     "shell.execute_reply.started": "2024-06-10T18:17:39.496969Z"
    }
   },
   "outputs": [
    {
     "data": {
      "text/plain": [
       "RandomForestClassifier(bootstrap=True, class_weight=None, criterion='entropy',\n",
       "            max_depth=None, max_features='auto', max_leaf_nodes=None,\n",
       "            min_impurity_decrease=0.0, min_impurity_split=None,\n",
       "            min_samples_leaf=1, min_samples_split=2,\n",
       "            min_weight_fraction_leaf=0.0, n_estimators=10, n_jobs=None,\n",
       "            oob_score=False, random_state=None, verbose=0,\n",
       "            warm_start=False)"
      ]
     },
     "execution_count": 22,
     "metadata": {},
     "output_type": "execute_result"
    }
   ],
   "source": [
    "RF.fit(X_train, Y_train)"
   ]
  },
  {
   "cell_type": "code",
   "execution_count": 23,
   "metadata": {
    "_cell_guid": "47ce98f8-4fd0-4b0f-a355-84f170ee293a",
    "_uuid": "2522e18edc1332f9383550d66ca4385f8f6254ac",
    "execution": {
     "iopub.execute_input": "2024-06-10T18:17:41.074331Z",
     "iopub.status.busy": "2024-06-10T18:17:41.074067Z",
     "iopub.status.idle": "2024-06-10T18:17:41.099516Z",
     "shell.execute_reply": "2024-06-10T18:17:41.098535Z",
     "shell.execute_reply.started": "2024-06-10T18:17:41.074287Z"
    }
   },
   "outputs": [
    {
     "name": "stdout",
     "output_type": "stream",
     "text": [
      "RandomForestClassifier processing ,,,\n",
      "RandomForestClassifier Score: 0.770 %\n"
     ]
    }
   ],
   "source": [
    "RF_feature = RF.feature_importances_\n",
    "RF_feature\n",
    "\n",
    "rf_score = RF.score(X_test, Y_test)\n",
    "\n",
    "print('RandomForestClassifier processing ,,,')\n",
    "print('RandomForestClassifier Score: %.3f %%' % rf_score)"
   ]
  },
  {
   "cell_type": "code",
   "execution_count": 24,
   "metadata": {
    "_cell_guid": "6afa8afd-9e8b-443d-aa04-ee9e46a61026",
    "_uuid": "66d759d3d00af2e028306a832ef2b65a3b92ae97",
    "execution": {
     "iopub.execute_input": "2024-06-10T18:17:41.101504Z",
     "iopub.status.busy": "2024-06-10T18:17:41.100967Z",
     "iopub.status.idle": "2024-06-10T18:17:42.514039Z",
     "shell.execute_reply": "2024-06-10T18:17:42.513151Z",
     "shell.execute_reply.started": "2024-06-10T18:17:41.101431Z"
    }
   },
   "outputs": [
    {
     "data": {
      "text/plain": [
       "ExtraTreesClassifier(bootstrap=False, class_weight=None, criterion='gini',\n",
       "           max_depth=None, max_features='auto', max_leaf_nodes=None,\n",
       "           min_impurity_decrease=0.0, min_impurity_split=None,\n",
       "           min_samples_leaf=1, min_samples_split=2,\n",
       "           min_weight_fraction_leaf=0.0, n_estimators=10, n_jobs=None,\n",
       "           oob_score=False, random_state=None, verbose=0, warm_start=False)"
      ]
     },
     "execution_count": 24,
     "metadata": {},
     "output_type": "execute_result"
    }
   ],
   "source": [
    "ET.fit(X_train, Y_train)"
   ]
  },
  {
   "cell_type": "code",
   "execution_count": 25,
   "metadata": {
    "_cell_guid": "9453484a-3364-4674-91ad-007cbcae9a82",
    "_uuid": "8bd2d89127cf14f1b2f7cfef20e9d7c0154d9c08",
    "execution": {
     "iopub.execute_input": "2024-06-10T18:17:42.515733Z",
     "iopub.status.busy": "2024-06-10T18:17:42.515479Z",
     "iopub.status.idle": "2024-06-10T18:17:42.543316Z",
     "shell.execute_reply": "2024-06-10T18:17:42.542469Z",
     "shell.execute_reply.started": "2024-06-10T18:17:42.515690Z"
    }
   },
   "outputs": [
    {
     "name": "stdout",
     "output_type": "stream",
     "text": [
      "ExtraTreesClassifier processing ,,,\n",
      "ExtraTreeClassifier: 0.751 %\n"
     ]
    }
   ],
   "source": [
    "ET_feature = ET.feature_importances_\n",
    "ET_feature\n",
    "\n",
    "et_score = ET.score(X_test, Y_test)\n",
    "\n",
    "print('ExtraTreesClassifier processing ,,,')\n",
    "print('ExtraTreeClassifier: %.3f %%' % et_score)"
   ]
  },
  {
   "cell_type": "code",
   "execution_count": 26,
   "metadata": {
    "_cell_guid": "7807d34a-9a2a-4d83-8685-d90c893c06a2",
    "_uuid": "96410fef5c90a6d2a23154e588bf1b81d362e816",
    "execution": {
     "iopub.execute_input": "2024-06-10T18:17:42.544951Z",
     "iopub.status.busy": "2024-06-10T18:17:42.544679Z",
     "iopub.status.idle": "2024-06-10T18:20:56.054967Z",
     "shell.execute_reply": "2024-06-10T18:20:56.054018Z",
     "shell.execute_reply.started": "2024-06-10T18:17:42.544905Z"
    }
   },
   "outputs": [
    {
     "data": {
      "text/plain": [
       "GradientBoostingClassifier(criterion='friedman_mse', init=None,\n",
       "              learning_rate=0.1, loss='deviance', max_depth=3,\n",
       "              max_features='auto', max_leaf_nodes=None,\n",
       "              min_impurity_decrease=0.0, min_impurity_split=None,\n",
       "              min_samples_leaf=1, min_samples_split=2,\n",
       "              min_weight_fraction_leaf=0.0, n_estimators=200,\n",
       "              n_iter_no_change=None, presort='auto', random_state=None,\n",
       "              subsample=1.0, tol=0.0001, validation_fraction=0.1,\n",
       "              verbose=0, warm_start=False)"
      ]
     },
     "execution_count": 26,
     "metadata": {},
     "output_type": "execute_result"
    }
   ],
   "source": [
    "GB.fit(X_train, Y_train)"
   ]
  },
  {
   "cell_type": "code",
   "execution_count": 27,
   "metadata": {
    "_cell_guid": "89511522-d2b9-4bed-ba12-163f4b9aae1f",
    "_uuid": "1db270130b8d0a6ccf918ffd4c2857ff85e3a144",
    "execution": {
     "iopub.execute_input": "2024-06-10T18:20:56.057127Z",
     "iopub.status.busy": "2024-06-10T18:20:56.056777Z",
     "iopub.status.idle": "2024-06-10T18:20:56.228715Z",
     "shell.execute_reply": "2024-06-10T18:20:56.227833Z",
     "shell.execute_reply.started": "2024-06-10T18:20:56.057064Z"
    }
   },
   "outputs": [
    {
     "name": "stdout",
     "output_type": "stream",
     "text": [
      "GradientBoostingClassifier processing ,,,\n",
      "GradientBoostingClassifier Score: 0.763 %\n"
     ]
    }
   ],
   "source": [
    "GB_feature = GB.feature_importances_\n",
    "GB_feature\n",
    "\n",
    "gb_score = GB.score(X_test, Y_test)\n",
    "\n",
    "print('GradientBoostingClassifier processing ,,,')\n",
    "print('GradientBoostingClassifier Score: %.3f %%' % gb_score)"
   ]
  },
  {
   "cell_type": "markdown",
   "metadata": {
    "_cell_guid": "38dafed5-3f47-4dcc-ab97-7d3faff4a631",
    "_uuid": "4b25db45c88fc8927c1dbe753f0515095da51a0f"
   },
   "source": [
    "Let's look at how the features affect each other through Ensemble"
   ]
  },
  {
   "cell_type": "code",
   "execution_count": 28,
   "metadata": {
    "_cell_guid": "c06af718-3e5a-4439-9808-0eb0a9fa0c74",
    "_uuid": "3013e38f34f0671d6a9dee1041f566eec6abf989",
    "execution": {
     "iopub.execute_input": "2024-06-10T18:20:56.230550Z",
     "iopub.status.busy": "2024-06-10T18:20:56.230236Z",
     "iopub.status.idle": "2024-06-10T18:20:56.258905Z",
     "shell.execute_reply": "2024-06-10T18:20:56.257971Z",
     "shell.execute_reply.started": "2024-06-10T18:20:56.230492Z"
    }
   },
   "outputs": [
    {
     "data": {
      "text/html": [
       "<div>\n",
       "<style scoped>\n",
       "    .dataframe tbody tr th:only-of-type {\n",
       "        vertical-align: middle;\n",
       "    }\n",
       "\n",
       "    .dataframe tbody tr th {\n",
       "        vertical-align: top;\n",
       "    }\n",
       "\n",
       "    .dataframe thead th {\n",
       "        text-align: right;\n",
       "    }\n",
       "</style>\n",
       "<table border=\"1\" class=\"dataframe\">\n",
       "  <thead>\n",
       "    <tr style=\"text-align: right;\">\n",
       "      <th></th>\n",
       "      <th>features</th>\n",
       "      <th>AdaBoost</th>\n",
       "      <th>RandomForest</th>\n",
       "      <th>ExtraTree</th>\n",
       "      <th>GradientBoost</th>\n",
       "    </tr>\n",
       "  </thead>\n",
       "  <tbody>\n",
       "    <tr>\n",
       "      <th>0</th>\n",
       "      <td>duration</td>\n",
       "      <td>0.005980</td>\n",
       "      <td>0.003868</td>\n",
       "      <td>0.002559</td>\n",
       "      <td>0.003122</td>\n",
       "    </tr>\n",
       "    <tr>\n",
       "      <th>1</th>\n",
       "      <td>protocol_type</td>\n",
       "      <td>NaN</td>\n",
       "      <td>0.024163</td>\n",
       "      <td>0.037669</td>\n",
       "      <td>0.010058</td>\n",
       "    </tr>\n",
       "    <tr>\n",
       "      <th>2</th>\n",
       "      <td>service</td>\n",
       "      <td>NaN</td>\n",
       "      <td>0.037290</td>\n",
       "      <td>0.019326</td>\n",
       "      <td>0.008054</td>\n",
       "    </tr>\n",
       "    <tr>\n",
       "      <th>3</th>\n",
       "      <td>flag</td>\n",
       "      <td>0.001480</td>\n",
       "      <td>0.041473</td>\n",
       "      <td>0.009625</td>\n",
       "      <td>0.001259</td>\n",
       "    </tr>\n",
       "    <tr>\n",
       "      <th>4</th>\n",
       "      <td>src_bytes</td>\n",
       "      <td>NaN</td>\n",
       "      <td>0.200180</td>\n",
       "      <td>0.022986</td>\n",
       "      <td>0.337478</td>\n",
       "    </tr>\n",
       "    <tr>\n",
       "      <th>5</th>\n",
       "      <td>dst_bytes</td>\n",
       "      <td>NaN</td>\n",
       "      <td>0.108661</td>\n",
       "      <td>0.009843</td>\n",
       "      <td>0.079835</td>\n",
       "    </tr>\n",
       "    <tr>\n",
       "      <th>6</th>\n",
       "      <td>land</td>\n",
       "      <td>NaN</td>\n",
       "      <td>0.000081</td>\n",
       "      <td>0.000028</td>\n",
       "      <td>0.000050</td>\n",
       "    </tr>\n",
       "    <tr>\n",
       "      <th>7</th>\n",
       "      <td>wrong_fragment</td>\n",
       "      <td>inf</td>\n",
       "      <td>0.007543</td>\n",
       "      <td>0.013770</td>\n",
       "      <td>0.012979</td>\n",
       "    </tr>\n",
       "  </tbody>\n",
       "</table>\n",
       "</div>"
      ],
      "text/plain": [
       "         features  AdaBoost      ...        ExtraTree  GradientBoost\n",
       "0        duration  0.005980      ...         0.002559       0.003122\n",
       "1   protocol_type       NaN      ...         0.037669       0.010058\n",
       "2         service       NaN      ...         0.019326       0.008054\n",
       "3            flag  0.001480      ...         0.009625       0.001259\n",
       "4       src_bytes       NaN      ...         0.022986       0.337478\n",
       "5       dst_bytes       NaN      ...         0.009843       0.079835\n",
       "6            land       NaN      ...         0.000028       0.000050\n",
       "7  wrong_fragment       inf      ...         0.013770       0.012979\n",
       "\n",
       "[8 rows x 5 columns]"
      ]
     },
     "execution_count": 28,
     "metadata": {},
     "output_type": "execute_result"
    }
   ],
   "source": [
    "cols = X_train.columns.values\n",
    "\n",
    "feature_df = pd.DataFrame({'features': cols,\n",
    "                           'AdaBoost' : AB_feature,\n",
    "                           'RandomForest' : RF_feature,\n",
    "                           'ExtraTree' : ET_feature,\n",
    "                           'GradientBoost' : GB_feature\n",
    "                          })\n",
    "feature_df.head(8)"
   ]
  },
  {
   "cell_type": "markdown",
   "metadata": {
    "_cell_guid": "a673d858-c84f-4d65-b21a-ecdbfb0242e7",
    "_uuid": "36c2ba8b67a39e470f8d65efe09a305115b56969"
   },
   "source": [
    "Graphs showing the influence of features"
   ]
  },
  {
   "cell_type": "code",
   "execution_count": 29,
   "metadata": {
    "_cell_guid": "b85a5513-dae3-4bc2-8b78-9f8e6661c69f",
    "_uuid": "b5528668f63a93dc5469c218a88dff22bba4a4db",
    "execution": {
     "iopub.execute_input": "2024-06-10T18:20:56.261005Z",
     "iopub.status.busy": "2024-06-10T18:20:56.260498Z",
     "iopub.status.idle": "2024-06-10T18:20:57.763318Z",
     "shell.execute_reply": "2024-06-10T18:20:57.762447Z",
     "shell.execute_reply.started": "2024-06-10T18:20:56.260793Z"
    }
   },
   "outputs": [
    {
     "data": {
      "text/plain": [
       "[Text(0,0,'duration'),\n",
       " Text(0,0,'protocol_type'),\n",
       " Text(0,0,'service'),\n",
       " Text(0,0,'flag'),\n",
       " Text(0,0,'src_bytes'),\n",
       " Text(0,0,'dst_bytes'),\n",
       " Text(0,0,'land'),\n",
       " Text(0,0,'wrong_fragment'),\n",
       " Text(0,0,'urgent'),\n",
       " Text(0,0,'hot'),\n",
       " Text(0,0,'num_failed_logins'),\n",
       " Text(0,0,'logged_in'),\n",
       " Text(0,0,'num_compromised'),\n",
       " Text(0,0,'root_shell'),\n",
       " Text(0,0,'su_attempted'),\n",
       " Text(0,0,'num_root'),\n",
       " Text(0,0,'num_file_creations'),\n",
       " Text(0,0,'num_shells'),\n",
       " Text(0,0,'num_access_files'),\n",
       " Text(0,0,'is_host_login'),\n",
       " Text(0,0,'is_guest_login'),\n",
       " Text(0,0,'count'),\n",
       " Text(0,0,'srv_count'),\n",
       " Text(0,0,'serror_rate'),\n",
       " Text(0,0,'srv_serror_rate'),\n",
       " Text(0,0,'rerror_rate'),\n",
       " Text(0,0,'srv_rerror_rate'),\n",
       " Text(0,0,'same_srv_rate'),\n",
       " Text(0,0,'diff_srv_rate'),\n",
       " Text(0,0,'srv_diff_host_rate'),\n",
       " Text(0,0,'dst_host_count'),\n",
       " Text(0,0,'dst_host_srv_count'),\n",
       " Text(0,0,'dst_host_same_srv_rate'),\n",
       " Text(0,0,'dst_host_diff_srv_rate'),\n",
       " Text(0,0,'dst_host_same_src_port_rate'),\n",
       " Text(0,0,'dst_host_srv_diff_host_rate'),\n",
       " Text(0,0,'dst_host_serror_rate'),\n",
       " Text(0,0,'dst_host_srv_serror_rate'),\n",
       " Text(0,0,'dst_host_rerror_rate'),\n",
       " Text(0,0,'dst_host_srv_rerror_rate')]"
      ]
     },
     "execution_count": 29,
     "metadata": {},
     "output_type": "execute_result"
    },
    {
     "data": {
      "image/png": "[encoded data removed]",
      "text/plain": [
       "<Figure size 1296x720 with 1 Axes>"
      ]
     },
     "metadata": {},
     "output_type": "display_data"
    }
   ],
   "source": [
    "from matplotlib.ticker import MaxNLocator\n",
    "from collections import namedtuple\n",
    "\n",
    "graph = feature_df.plot.bar(figsize = (18, 10), title = 'Feature distribution', grid=True, legend=True, fontsize = 15, \n",
    "                            xticks=feature_df.index)\n",
    "graph.set_xticklabels(feature_df.features, rotation = 80)"
   ]
  },
  {
   "cell_type": "markdown",
   "metadata": {
    "_cell_guid": "abec513b-02cb-4d07-874e-12765db13f98",
    "_uuid": "3c472cd98a2601e78546275d5e18c9dfdd27c2a9"
   },
   "source": [
    "#### Extract twelve features from each Ensemble model"
   ]
  },
  {
   "cell_type": "code",
   "execution_count": 30,
   "metadata": {
    "_cell_guid": "2b861c0c-454e-4f85-b7db-a56fa8a9f4aa",
    "_uuid": "38b3e44e8794957e441561b28e9dda2e669501d5",
    "execution": {
     "iopub.execute_input": "2024-06-10T18:20:57.765306Z",
     "iopub.status.busy": "2024-06-10T18:20:57.764998Z",
     "iopub.status.idle": "2024-06-10T18:20:57.779052Z",
     "shell.execute_reply": "2024-06-10T18:20:57.778162Z",
     "shell.execute_reply.started": "2024-06-10T18:20:57.765249Z"
    }
   },
   "outputs": [],
   "source": [
    "a_f = feature_df.nlargest(12, 'AdaBoost')\n",
    "e_f = feature_df.nlargest(12, 'ExtraTree')\n",
    "g_f = feature_df.nlargest(12, 'GradientBoost')\n",
    "r_f = feature_df.nlargest(12, 'RandomForest')"
   ]
  },
  {
   "cell_type": "markdown",
   "metadata": {
    "_cell_guid": "d7fb1398-b03f-4b02-8186-60c58db2f9c4",
    "_uuid": "dfe107880c4b18d82062a6d068fdd5d40ec2cb81"
   },
   "source": [
    "#### Delete Duplicates"
   ]
  },
  {
   "cell_type": "code",
   "execution_count": 31,
   "metadata": {
    "_cell_guid": "9f203942-69bc-4af3-a607-c69a91f67a61",
    "_uuid": "25b3b9f96cd8dd0e3e5d1762136e922c2b5623ae",
    "execution": {
     "iopub.execute_input": "2024-06-10T18:20:57.781000Z",
     "iopub.status.busy": "2024-06-10T18:20:57.780626Z",
     "iopub.status.idle": "2024-06-10T18:20:57.819684Z",
     "shell.execute_reply": "2024-06-10T18:20:57.818530Z",
     "shell.execute_reply.started": "2024-06-10T18:20:57.780948Z"
    }
   },
   "outputs": [
    {
     "data": {
      "text/html": [
       "<div>\n",
       "<style scoped>\n",
       "    .dataframe tbody tr th:only-of-type {\n",
       "        vertical-align: middle;\n",
       "    }\n",
       "\n",
       "    .dataframe tbody tr th {\n",
       "        vertical-align: top;\n",
       "    }\n",
       "\n",
       "    .dataframe thead th {\n",
       "        text-align: right;\n",
       "    }\n",
       "</style>\n",
       "<table border=\"1\" class=\"dataframe\">\n",
       "  <thead>\n",
       "    <tr style=\"text-align: right;\">\n",
       "      <th></th>\n",
       "      <th>features</th>\n",
       "      <th>AdaBoost</th>\n",
       "      <th>RandomForest</th>\n",
       "      <th>ExtraTree</th>\n",
       "      <th>GradientBoost</th>\n",
       "    </tr>\n",
       "  </thead>\n",
       "  <tbody>\n",
       "    <tr>\n",
       "      <th>7</th>\n",
       "      <td>wrong_fragment</td>\n",
       "      <td>inf</td>\n",
       "      <td>0.007543</td>\n",
       "      <td>0.013770</td>\n",
       "      <td>0.012979</td>\n",
       "    </tr>\n",
       "    <tr>\n",
       "      <th>32</th>\n",
       "      <td>dst_host_same_srv_rate</td>\n",
       "      <td>0.232475</td>\n",
       "      <td>0.014069</td>\n",
       "      <td>0.061492</td>\n",
       "      <td>0.002563</td>\n",
       "    </tr>\n",
       "    <tr>\n",
       "      <th>34</th>\n",
       "      <td>dst_host_same_src_port_rate</td>\n",
       "      <td>0.073943</td>\n",
       "      <td>0.060521</td>\n",
       "      <td>0.053722</td>\n",
       "      <td>0.011342</td>\n",
       "    </tr>\n",
       "    <tr>\n",
       "      <th>30</th>\n",
       "      <td>dst_host_count</td>\n",
       "      <td>0.008033</td>\n",
       "      <td>0.009024</td>\n",
       "      <td>0.010274</td>\n",
       "      <td>0.001135</td>\n",
       "    </tr>\n",
       "    <tr>\n",
       "      <th>27</th>\n",
       "      <td>same_srv_rate</td>\n",
       "      <td>0.007648</td>\n",
       "      <td>0.048448</td>\n",
       "      <td>0.100111</td>\n",
       "      <td>0.214117</td>\n",
       "    </tr>\n",
       "    <tr>\n",
       "      <th>0</th>\n",
       "      <td>duration</td>\n",
       "      <td>0.005980</td>\n",
       "      <td>0.003868</td>\n",
       "      <td>0.002559</td>\n",
       "      <td>0.003122</td>\n",
       "    </tr>\n",
       "    <tr>\n",
       "      <th>9</th>\n",
       "      <td>hot</td>\n",
       "      <td>0.003340</td>\n",
       "      <td>0.010670</td>\n",
       "      <td>0.009231</td>\n",
       "      <td>0.007645</td>\n",
       "    </tr>\n",
       "    <tr>\n",
       "      <th>3</th>\n",
       "      <td>flag</td>\n",
       "      <td>0.001480</td>\n",
       "      <td>0.041473</td>\n",
       "      <td>0.009625</td>\n",
       "      <td>0.001259</td>\n",
       "    </tr>\n",
       "    <tr>\n",
       "      <th>18</th>\n",
       "      <td>num_access_files</td>\n",
       "      <td>0.001304</td>\n",
       "      <td>0.000049</td>\n",
       "      <td>0.000071</td>\n",
       "      <td>0.000030</td>\n",
       "    </tr>\n",
       "    <tr>\n",
       "      <th>10</th>\n",
       "      <td>num_failed_logins</td>\n",
       "      <td>0.000896</td>\n",
       "      <td>0.000177</td>\n",
       "      <td>0.000752</td>\n",
       "      <td>0.000583</td>\n",
       "    </tr>\n",
       "    <tr>\n",
       "      <th>29</th>\n",
       "      <td>srv_diff_host_rate</td>\n",
       "      <td>0.000802</td>\n",
       "      <td>0.002894</td>\n",
       "      <td>0.014005</td>\n",
       "      <td>0.000027</td>\n",
       "    </tr>\n",
       "    <tr>\n",
       "      <th>39</th>\n",
       "      <td>dst_host_srv_rerror_rate</td>\n",
       "      <td>0.000781</td>\n",
       "      <td>0.007307</td>\n",
       "      <td>0.011260</td>\n",
       "      <td>0.000592</td>\n",
       "    </tr>\n",
       "    <tr>\n",
       "      <th>36</th>\n",
       "      <td>dst_host_serror_rate</td>\n",
       "      <td>NaN</td>\n",
       "      <td>0.021686</td>\n",
       "      <td>0.099278</td>\n",
       "      <td>0.066698</td>\n",
       "    </tr>\n",
       "    <tr>\n",
       "      <th>21</th>\n",
       "      <td>count</td>\n",
       "      <td>NaN</td>\n",
       "      <td>0.082024</td>\n",
       "      <td>0.091225</td>\n",
       "      <td>0.057238</td>\n",
       "    </tr>\n",
       "    <tr>\n",
       "      <th>37</th>\n",
       "      <td>dst_host_srv_serror_rate</td>\n",
       "      <td>0.000409</td>\n",
       "      <td>0.002840</td>\n",
       "      <td>0.084666</td>\n",
       "      <td>0.000363</td>\n",
       "    </tr>\n",
       "    <tr>\n",
       "      <th>24</th>\n",
       "      <td>srv_serror_rate</td>\n",
       "      <td>0.000045</td>\n",
       "      <td>0.002177</td>\n",
       "      <td>0.059069</td>\n",
       "      <td>0.000437</td>\n",
       "    </tr>\n",
       "    <tr>\n",
       "      <th>11</th>\n",
       "      <td>logged_in</td>\n",
       "      <td>NaN</td>\n",
       "      <td>0.013145</td>\n",
       "      <td>0.058329</td>\n",
       "      <td>0.001941</td>\n",
       "    </tr>\n",
       "    <tr>\n",
       "      <th>31</th>\n",
       "      <td>dst_host_srv_count</td>\n",
       "      <td>NaN</td>\n",
       "      <td>0.016451</td>\n",
       "      <td>0.047349</td>\n",
       "      <td>0.016261</td>\n",
       "    </tr>\n",
       "    <tr>\n",
       "      <th>1</th>\n",
       "      <td>protocol_type</td>\n",
       "      <td>NaN</td>\n",
       "      <td>0.024163</td>\n",
       "      <td>0.037669</td>\n",
       "      <td>0.010058</td>\n",
       "    </tr>\n",
       "    <tr>\n",
       "      <th>33</th>\n",
       "      <td>dst_host_diff_srv_rate</td>\n",
       "      <td>NaN</td>\n",
       "      <td>0.023215</td>\n",
       "      <td>0.033444</td>\n",
       "      <td>0.048628</td>\n",
       "    </tr>\n",
       "    <tr>\n",
       "      <th>38</th>\n",
       "      <td>dst_host_rerror_rate</td>\n",
       "      <td>NaN</td>\n",
       "      <td>0.015932</td>\n",
       "      <td>0.030807</td>\n",
       "      <td>0.003127</td>\n",
       "    </tr>\n",
       "    <tr>\n",
       "      <th>4</th>\n",
       "      <td>src_bytes</td>\n",
       "      <td>NaN</td>\n",
       "      <td>0.200180</td>\n",
       "      <td>0.022986</td>\n",
       "      <td>0.337478</td>\n",
       "    </tr>\n",
       "    <tr>\n",
       "      <th>5</th>\n",
       "      <td>dst_bytes</td>\n",
       "      <td>NaN</td>\n",
       "      <td>0.108661</td>\n",
       "      <td>0.009843</td>\n",
       "      <td>0.079835</td>\n",
       "    </tr>\n",
       "    <tr>\n",
       "      <th>35</th>\n",
       "      <td>dst_host_srv_diff_host_rate</td>\n",
       "      <td>0.000296</td>\n",
       "      <td>0.013638</td>\n",
       "      <td>0.027350</td>\n",
       "      <td>0.046658</td>\n",
       "    </tr>\n",
       "    <tr>\n",
       "      <th>28</th>\n",
       "      <td>diff_srv_rate</td>\n",
       "      <td>0.000144</td>\n",
       "      <td>0.069088</td>\n",
       "      <td>0.027639</td>\n",
       "      <td>0.036209</td>\n",
       "    </tr>\n",
       "    <tr>\n",
       "      <th>23</th>\n",
       "      <td>serror_rate</td>\n",
       "      <td>0.000029</td>\n",
       "      <td>0.118598</td>\n",
       "      <td>0.023506</td>\n",
       "      <td>0.017106</td>\n",
       "    </tr>\n",
       "    <tr>\n",
       "      <th>2</th>\n",
       "      <td>service</td>\n",
       "      <td>NaN</td>\n",
       "      <td>0.037290</td>\n",
       "      <td>0.019326</td>\n",
       "      <td>0.008054</td>\n",
       "    </tr>\n",
       "    <tr>\n",
       "      <th>22</th>\n",
       "      <td>srv_count</td>\n",
       "      <td>NaN</td>\n",
       "      <td>0.028194</td>\n",
       "      <td>0.014639</td>\n",
       "      <td>0.007163</td>\n",
       "    </tr>\n",
       "  </tbody>\n",
       "</table>\n",
       "</div>"
      ],
      "text/plain": [
       "                       features      ...        GradientBoost\n",
       "7                wrong_fragment      ...             0.012979\n",
       "32       dst_host_same_srv_rate      ...             0.002563\n",
       "34  dst_host_same_src_port_rate      ...             0.011342\n",
       "30               dst_host_count      ...             0.001135\n",
       "27                same_srv_rate      ...             0.214117\n",
       "0                      duration      ...             0.003122\n",
       "9                           hot      ...             0.007645\n",
       "3                          flag      ...             0.001259\n",
       "18             num_access_files      ...             0.000030\n",
       "10            num_failed_logins      ...             0.000583\n",
       "29           srv_diff_host_rate      ...             0.000027\n",
       "39     dst_host_srv_rerror_rate      ...             0.000592\n",
       "36         dst_host_serror_rate      ...             0.066698\n",
       "21                        count      ...             0.057238\n",
       "37     dst_host_srv_serror_rate      ...             0.000363\n",
       "24              srv_serror_rate      ...             0.000437\n",
       "11                    logged_in      ...             0.001941\n",
       "31           dst_host_srv_count      ...             0.016261\n",
       "1                 protocol_type      ...             0.010058\n",
       "33       dst_host_diff_srv_rate      ...             0.048628\n",
       "38         dst_host_rerror_rate      ...             0.003127\n",
       "4                     src_bytes      ...             0.337478\n",
       "5                     dst_bytes      ...             0.079835\n",
       "35  dst_host_srv_diff_host_rate      ...             0.046658\n",
       "28                diff_srv_rate      ...             0.036209\n",
       "23                  serror_rate      ...             0.017106\n",
       "2                       service      ...             0.008054\n",
       "22                    srv_count      ...             0.007163\n",
       "\n",
       "[28 rows x 5 columns]"
      ]
     },
     "execution_count": 31,
     "metadata": {},
     "output_type": "execute_result"
    }
   ],
   "source": [
    "result = pd.concat([a_f, e_f, g_f, r_f])\n",
    "result = result.drop_duplicates() # delete duplicate feature\n",
    "result"
   ]
  },
  {
   "cell_type": "code",
   "execution_count": 32,
   "metadata": {
    "_cell_guid": "a6e3bfba-4dba-43fa-b364-07a9378377da",
    "_uuid": "5dc58fd0a44b69a5b54e3a58a0a738bdb87bdda2",
    "execution": {
     "iopub.execute_input": "2024-06-10T18:20:57.821899Z",
     "iopub.status.busy": "2024-06-10T18:20:57.821542Z",
     "iopub.status.idle": "2024-06-10T18:20:57.832822Z",
     "shell.execute_reply": "2024-06-10T18:20:57.831858Z",
     "shell.execute_reply.started": "2024-06-10T18:20:57.821834Z"
    }
   },
   "outputs": [
    {
     "data": {
      "text/plain": [
       "['wrong_fragment',\n",
       " 'dst_host_same_srv_rate',\n",
       " 'dst_host_same_src_port_rate',\n",
       " 'dst_host_count',\n",
       " 'same_srv_rate',\n",
       " 'duration',\n",
       " 'hot',\n",
       " 'flag',\n",
       " 'num_access_files',\n",
       " 'num_failed_logins',\n",
       " 'srv_diff_host_rate',\n",
       " 'dst_host_srv_rerror_rate',\n",
       " 'dst_host_serror_rate',\n",
       " 'count',\n",
       " 'dst_host_srv_serror_rate',\n",
       " 'srv_serror_rate',\n",
       " 'logged_in',\n",
       " 'dst_host_srv_count',\n",
       " 'protocol_type',\n",
       " 'dst_host_diff_srv_rate',\n",
       " 'dst_host_rerror_rate',\n",
       " 'src_bytes',\n",
       " 'dst_bytes',\n",
       " 'dst_host_srv_diff_host_rate',\n",
       " 'diff_srv_rate',\n",
       " 'serror_rate',\n",
       " 'service',\n",
       " 'srv_count']"
      ]
     },
     "execution_count": 32,
     "metadata": {},
     "output_type": "execute_result"
    }
   ],
   "source": [
    "selected_features = result['features'].values.tolist()\n",
    "selected_features"
   ]
  },
  {
   "cell_type": "markdown",
   "metadata": {
    "_cell_guid": "643b3d53-660b-4381-8075-bece770d15ac",
    "_uuid": "485a0247c1ce3e1c754dfe1287beea3d8bb34c55"
   },
   "source": [
    "#### Below are the results of training with the exception of the features with small standard deviations."
   ]
  },
  {
   "cell_type": "code",
   "execution_count": 33,
   "metadata": {
    "_cell_guid": "5b7a01d5-9560-468c-a31f-8dd70aeeac11",
    "_uuid": "5896caa58b65ddd20e7140a707e0b26a508f7a69",
    "execution": {
     "iopub.execute_input": "2024-06-10T18:20:57.834718Z",
     "iopub.status.busy": "2024-06-10T18:20:57.834354Z",
     "iopub.status.idle": "2024-06-10T18:22:52.285999Z",
     "shell.execute_reply": "2024-06-10T18:22:52.284852Z",
     "shell.execute_reply.started": "2024-06-10T18:20:57.834659Z"
    }
   },
   "outputs": [
    {
     "data": {
      "text/plain": [
       "AdaBoostClassifier(algorithm='SAMME.R',\n",
       "          base_estimator=DecisionTreeClassifier(class_weight=None, criterion='gini', max_depth=None,\n",
       "            max_features=None, max_leaf_nodes=None,\n",
       "            min_impurity_decrease=0.0, min_impurity_split=None,\n",
       "            min_samples_leaf=1, min_samples_split=2,\n",
       "            min_weight_fraction_leaf=0.0, presort=False, random_state=None,\n",
       "            splitter='best'),\n",
       "          learning_rate=1.0, n_estimators=100, random_state=None)"
      ]
     },
     "execution_count": 33,
     "metadata": {},
     "output_type": "execute_result"
    }
   ],
   "source": [
    "AB.fit(X_train_stdrop, Y_train)"
   ]
  },
  {
   "cell_type": "code",
   "execution_count": 34,
   "metadata": {
    "_cell_guid": "47adb753-5d6d-4d14-a4e3-36112a56b125",
    "_uuid": "447a55f24b34603b0e29fafa5cd0fc34e0f54f96",
    "execution": {
     "iopub.execute_input": "2024-06-10T18:22:52.287750Z",
     "iopub.status.busy": "2024-06-10T18:22:52.287446Z",
     "iopub.status.idle": "2024-06-10T18:22:52.629973Z",
     "shell.execute_reply": "2024-06-10T18:22:52.629050Z",
     "shell.execute_reply.started": "2024-06-10T18:22:52.287692Z"
    }
   },
   "outputs": [
    {
     "name": "stdout",
     "output_type": "stream",
     "text": [
      "AdaBoostClassifier_stdrop processing ,,,\n",
      "AdaBoostClasifier Score: 0.761 %\n"
     ]
    }
   ],
   "source": [
    "ab2_score = AB.score(X_test_stdrop, Y_test)\n",
    "\n",
    "print('AdaBoostClassifier_stdrop processing ,,,')\n",
    "print('AdaBoostClasifier Score: %.3f %%' % ab2_score)"
   ]
  },
  {
   "cell_type": "code",
   "execution_count": 35,
   "metadata": {
    "_cell_guid": "b7b2d4bc-d577-48f9-aca7-f65d37fa006a",
    "_uuid": "a0f73db1d1d23e920c0120986168e166adbf9495",
    "execution": {
     "iopub.execute_input": "2024-06-10T18:22:52.631917Z",
     "iopub.status.busy": "2024-06-10T18:22:52.631586Z",
     "iopub.status.idle": "2024-06-10T18:22:54.101883Z",
     "shell.execute_reply": "2024-06-10T18:22:54.100849Z",
     "shell.execute_reply.started": "2024-06-10T18:22:52.631856Z"
    }
   },
   "outputs": [
    {
     "data": {
      "text/plain": [
       "RandomForestClassifier(bootstrap=True, class_weight=None, criterion='entropy',\n",
       "            max_depth=None, max_features='auto', max_leaf_nodes=None,\n",
       "            min_impurity_decrease=0.0, min_impurity_split=None,\n",
       "            min_samples_leaf=1, min_samples_split=2,\n",
       "            min_weight_fraction_leaf=0.0, n_estimators=10, n_jobs=None,\n",
       "            oob_score=False, random_state=None, verbose=0,\n",
       "            warm_start=False)"
      ]
     },
     "execution_count": 35,
     "metadata": {},
     "output_type": "execute_result"
    }
   ],
   "source": [
    "RF.fit(X_train_stdrop, Y_train)"
   ]
  },
  {
   "cell_type": "code",
   "execution_count": 36,
   "metadata": {
    "_cell_guid": "fbf43d5c-5668-45d1-a664-20bcc64f197f",
    "_uuid": "67259e4de30174ad21b5d41214b5882dad691746",
    "execution": {
     "iopub.execute_input": "2024-06-10T18:22:54.103696Z",
     "iopub.status.busy": "2024-06-10T18:22:54.103392Z",
     "iopub.status.idle": "2024-06-10T18:22:54.125728Z",
     "shell.execute_reply": "2024-06-10T18:22:54.124547Z",
     "shell.execute_reply.started": "2024-06-10T18:22:54.103637Z"
    }
   },
   "outputs": [
    {
     "name": "stdout",
     "output_type": "stream",
     "text": [
      "RandomForestClassifier_stdrop processing ,,,\n",
      "RandomForestClassifier Score: 0.738 %\n"
     ]
    }
   ],
   "source": [
    "rf2_score = RF.score(X_test_stdrop, Y_test)\n",
    "\n",
    "print('RandomForestClassifier_stdrop processing ,,,')\n",
    "print('RandomForestClassifier Score: %.3f %%' % rf2_score)"
   ]
  },
  {
   "cell_type": "code",
   "execution_count": 37,
   "metadata": {
    "_cell_guid": "d3cc1b5e-c80a-4839-a543-f40377a3f897",
    "_uuid": "c00ac7456975a9af2bd7e11c6daadb05121a6a3c",
    "execution": {
     "iopub.execute_input": "2024-06-10T18:22:54.127717Z",
     "iopub.status.busy": "2024-06-10T18:22:54.127358Z",
     "iopub.status.idle": "2024-06-10T18:22:55.394224Z",
     "shell.execute_reply": "2024-06-10T18:22:55.393311Z",
     "shell.execute_reply.started": "2024-06-10T18:22:54.127650Z"
    }
   },
   "outputs": [
    {
     "data": {
      "text/plain": [
       "ExtraTreesClassifier(bootstrap=False, class_weight=None, criterion='gini',\n",
       "           max_depth=None, max_features='auto', max_leaf_nodes=None,\n",
       "           min_impurity_decrease=0.0, min_impurity_split=None,\n",
       "           min_samples_leaf=1, min_samples_split=2,\n",
       "           min_weight_fraction_leaf=0.0, n_estimators=10, n_jobs=None,\n",
       "           oob_score=False, random_state=None, verbose=0, warm_start=False)"
      ]
     },
     "execution_count": 37,
     "metadata": {},
     "output_type": "execute_result"
    }
   ],
   "source": [
    "ET.fit(X_train_stdrop, Y_train)"
   ]
  },
  {
   "cell_type": "code",
   "execution_count": 38,
   "metadata": {
    "_cell_guid": "b8c50fbd-2f13-4da0-b729-77ee986a0aec",
    "_uuid": "686b33dbf7c1c0558ac090cecb63321243a096a1",
    "execution": {
     "iopub.execute_input": "2024-06-10T18:22:55.396190Z",
     "iopub.status.busy": "2024-06-10T18:22:55.395910Z",
     "iopub.status.idle": "2024-06-10T18:22:55.421902Z",
     "shell.execute_reply": "2024-06-10T18:22:55.420923Z",
     "shell.execute_reply.started": "2024-06-10T18:22:55.396140Z"
    }
   },
   "outputs": [
    {
     "name": "stdout",
     "output_type": "stream",
     "text": [
      "ExtraTreesClassifier_stdrop processing ,,,\n",
      "ExtraTreesClassifier Score: 0.756 %\n"
     ]
    }
   ],
   "source": [
    "et2_score = ET.score(X_test_stdrop, Y_test)\n",
    "\n",
    "print('ExtraTreesClassifier_stdrop processing ,,,')\n",
    "print('ExtraTreesClassifier Score: %.3f %%' % et2_score)"
   ]
  },
  {
   "cell_type": "code",
   "execution_count": 39,
   "metadata": {
    "_cell_guid": "d34879e9-deb8-42c9-8c20-878af09fedbf",
    "_uuid": "1c1e152c42ee8151a46786f444a810b8a5c1dc8f",
    "execution": {
     "iopub.execute_input": "2024-06-10T18:22:55.424055Z",
     "iopub.status.busy": "2024-06-10T18:22:55.423472Z",
     "iopub.status.idle": "2024-06-10T18:25:46.004628Z",
     "shell.execute_reply": "2024-06-10T18:25:46.003517Z",
     "shell.execute_reply.started": "2024-06-10T18:22:55.423771Z"
    }
   },
   "outputs": [
    {
     "data": {
      "text/plain": [
       "GradientBoostingClassifier(criterion='friedman_mse', init=None,\n",
       "              learning_rate=0.1, loss='deviance', max_depth=3,\n",
       "              max_features='auto', max_leaf_nodes=None,\n",
       "              min_impurity_decrease=0.0, min_impurity_split=None,\n",
       "              min_samples_leaf=1, min_samples_split=2,\n",
       "              min_weight_fraction_leaf=0.0, n_estimators=200,\n",
       "              n_iter_no_change=None, presort='auto', random_state=None,\n",
       "              subsample=1.0, tol=0.0001, validation_fraction=0.1,\n",
       "              verbose=0, warm_start=False)"
      ]
     },
     "execution_count": 39,
     "metadata": {},
     "output_type": "execute_result"
    }
   ],
   "source": [
    "GB.fit(X_train_stdrop, Y_train)"
   ]
  },
  {
   "cell_type": "code",
   "execution_count": 40,
   "metadata": {
    "_cell_guid": "d7e775f9-23ab-4b20-90fb-727d2b9a3cf5",
    "_uuid": "7055d363c7f10372b7ec8eb0b30d611b92d3dcd9",
    "execution": {
     "iopub.execute_input": "2024-06-10T18:25:46.006764Z",
     "iopub.status.busy": "2024-06-10T18:25:46.006390Z",
     "iopub.status.idle": "2024-06-10T18:25:46.167194Z",
     "shell.execute_reply": "2024-06-10T18:25:46.166262Z",
     "shell.execute_reply.started": "2024-06-10T18:25:46.006696Z"
    }
   },
   "outputs": [
    {
     "name": "stdout",
     "output_type": "stream",
     "text": [
      "GradientBoostingClassifier_stdrop processing ,,,\n",
      "GradientBoostingClassifier Score: 0.76 %\n"
     ]
    }
   ],
   "source": [
    "gb2_score = GB.score(X_test_stdrop, Y_test)\n",
    "\n",
    "print('GradientBoostingClassifier_stdrop processing ,,,')\n",
    "print('GradientBoostingClassifier Score: %.2f %%' % gb2_score)"
   ]
  },
  {
   "cell_type": "markdown",
   "metadata": {
    "_cell_guid": "93c1a550-8662-4f12-a24b-6ad9f14df882",
    "_uuid": "b794a179db6d8ae9ac47dccb1fd74492669d0f11"
   },
   "source": [
    "#### Only features obtained through ensemble"
   ]
  },
  {
   "cell_type": "code",
   "execution_count": 41,
   "metadata": {
    "_cell_guid": "35de61e3-c3ff-4c8d-9241-de794d481b1d",
    "_uuid": "e0d9dd7e7e566c20aa8023ea781db3e8da038713",
    "execution": {
     "iopub.execute_input": "2024-06-10T18:25:46.169149Z",
     "iopub.status.busy": "2024-06-10T18:25:46.168749Z",
     "iopub.status.idle": "2024-06-10T18:25:46.257757Z",
     "shell.execute_reply": "2024-06-10T18:25:46.256941Z",
     "shell.execute_reply.started": "2024-06-10T18:25:46.169076Z"
    }
   },
   "outputs": [
    {
     "data": {
      "text/html": [
       "<div>\n",
       "<style scoped>\n",
       "    .dataframe tbody tr th:only-of-type {\n",
       "        vertical-align: middle;\n",
       "    }\n",
       "\n",
       "    .dataframe tbody tr th {\n",
       "        vertical-align: top;\n",
       "    }\n",
       "\n",
       "    .dataframe thead th {\n",
       "        text-align: right;\n",
       "    }\n",
       "</style>\n",
       "<table border=\"1\" class=\"dataframe\">\n",
       "  <thead>\n",
       "    <tr style=\"text-align: right;\">\n",
       "      <th></th>\n",
       "      <th>wrong_fragment</th>\n",
       "      <th>dst_host_same_srv_rate</th>\n",
       "      <th>dst_host_same_src_port_rate</th>\n",
       "      <th>dst_host_count</th>\n",
       "      <th>same_srv_rate</th>\n",
       "      <th>duration</th>\n",
       "      <th>hot</th>\n",
       "      <th>flag</th>\n",
       "      <th>num_access_files</th>\n",
       "      <th>num_failed_logins</th>\n",
       "      <th>srv_diff_host_rate</th>\n",
       "      <th>dst_host_srv_rerror_rate</th>\n",
       "      <th>dst_host_serror_rate</th>\n",
       "      <th>count</th>\n",
       "      <th>dst_host_srv_serror_rate</th>\n",
       "      <th>srv_serror_rate</th>\n",
       "      <th>logged_in</th>\n",
       "      <th>dst_host_srv_count</th>\n",
       "      <th>protocol_type</th>\n",
       "      <th>dst_host_diff_srv_rate</th>\n",
       "      <th>dst_host_rerror_rate</th>\n",
       "      <th>src_bytes</th>\n",
       "      <th>dst_bytes</th>\n",
       "      <th>dst_host_srv_diff_host_rate</th>\n",
       "      <th>diff_srv_rate</th>\n",
       "      <th>serror_rate</th>\n",
       "      <th>service</th>\n",
       "      <th>srv_count</th>\n",
       "    </tr>\n",
       "  </thead>\n",
       "  <tbody>\n",
       "    <tr>\n",
       "      <th>0</th>\n",
       "      <td>0</td>\n",
       "      <td>1.00</td>\n",
       "      <td>0.00</td>\n",
       "      <td>255</td>\n",
       "      <td>1.0</td>\n",
       "      <td>0</td>\n",
       "      <td>0</td>\n",
       "      <td>4</td>\n",
       "      <td>0</td>\n",
       "      <td>0</td>\n",
       "      <td>0.00</td>\n",
       "      <td>0.32</td>\n",
       "      <td>0.65</td>\n",
       "      <td>110</td>\n",
       "      <td>0.65</td>\n",
       "      <td>1.0</td>\n",
       "      <td>0</td>\n",
       "      <td>255</td>\n",
       "      <td>0</td>\n",
       "      <td>0.00</td>\n",
       "      <td>0.32</td>\n",
       "      <td>0</td>\n",
       "      <td>0</td>\n",
       "      <td>0.00</td>\n",
       "      <td>0.0</td>\n",
       "      <td>1.0</td>\n",
       "      <td>25</td>\n",
       "      <td>110</td>\n",
       "    </tr>\n",
       "    <tr>\n",
       "      <th>1</th>\n",
       "      <td>0</td>\n",
       "      <td>1.00</td>\n",
       "      <td>1.00</td>\n",
       "      <td>1</td>\n",
       "      <td>1.0</td>\n",
       "      <td>0</td>\n",
       "      <td>0</td>\n",
       "      <td>2</td>\n",
       "      <td>0</td>\n",
       "      <td>0</td>\n",
       "      <td>0.33</td>\n",
       "      <td>0.00</td>\n",
       "      <td>0.00</td>\n",
       "      <td>1</td>\n",
       "      <td>0.00</td>\n",
       "      <td>0.0</td>\n",
       "      <td>1</td>\n",
       "      <td>254</td>\n",
       "      <td>0</td>\n",
       "      <td>0.00</td>\n",
       "      <td>0.00</td>\n",
       "      <td>312</td>\n",
       "      <td>1856</td>\n",
       "      <td>0.06</td>\n",
       "      <td>0.0</td>\n",
       "      <td>0.0</td>\n",
       "      <td>25</td>\n",
       "      <td>9</td>\n",
       "    </tr>\n",
       "    <tr>\n",
       "      <th>2</th>\n",
       "      <td>0</td>\n",
       "      <td>1.00</td>\n",
       "      <td>0.01</td>\n",
       "      <td>114</td>\n",
       "      <td>1.0</td>\n",
       "      <td>0</td>\n",
       "      <td>0</td>\n",
       "      <td>2</td>\n",
       "      <td>0</td>\n",
       "      <td>0</td>\n",
       "      <td>0.00</td>\n",
       "      <td>0.00</td>\n",
       "      <td>0.01</td>\n",
       "      <td>5</td>\n",
       "      <td>0.00</td>\n",
       "      <td>0.0</td>\n",
       "      <td>1</td>\n",
       "      <td>255</td>\n",
       "      <td>0</td>\n",
       "      <td>0.00</td>\n",
       "      <td>0.00</td>\n",
       "      <td>245</td>\n",
       "      <td>2058</td>\n",
       "      <td>0.05</td>\n",
       "      <td>0.0</td>\n",
       "      <td>0.0</td>\n",
       "      <td>25</td>\n",
       "      <td>5</td>\n",
       "    </tr>\n",
       "    <tr>\n",
       "      <th>3</th>\n",
       "      <td>0</td>\n",
       "      <td>1.00</td>\n",
       "      <td>0.00</td>\n",
       "      <td>255</td>\n",
       "      <td>1.0</td>\n",
       "      <td>0</td>\n",
       "      <td>0</td>\n",
       "      <td>2</td>\n",
       "      <td>0</td>\n",
       "      <td>0</td>\n",
       "      <td>0.11</td>\n",
       "      <td>0.00</td>\n",
       "      <td>0.00</td>\n",
       "      <td>4</td>\n",
       "      <td>0.00</td>\n",
       "      <td>0.0</td>\n",
       "      <td>1</td>\n",
       "      <td>255</td>\n",
       "      <td>0</td>\n",
       "      <td>0.00</td>\n",
       "      <td>0.00</td>\n",
       "      <td>298</td>\n",
       "      <td>1267</td>\n",
       "      <td>0.00</td>\n",
       "      <td>0.0</td>\n",
       "      <td>0.0</td>\n",
       "      <td>25</td>\n",
       "      <td>18</td>\n",
       "    </tr>\n",
       "    <tr>\n",
       "      <th>4</th>\n",
       "      <td>0</td>\n",
       "      <td>0.18</td>\n",
       "      <td>0.18</td>\n",
       "      <td>104</td>\n",
       "      <td>1.0</td>\n",
       "      <td>0</td>\n",
       "      <td>0</td>\n",
       "      <td>2</td>\n",
       "      <td>0</td>\n",
       "      <td>0</td>\n",
       "      <td>0.00</td>\n",
       "      <td>0.00</td>\n",
       "      <td>0.00</td>\n",
       "      <td>1</td>\n",
       "      <td>0.00</td>\n",
       "      <td>0.0</td>\n",
       "      <td>0</td>\n",
       "      <td>19</td>\n",
       "      <td>0</td>\n",
       "      <td>0.03</td>\n",
       "      <td>0.00</td>\n",
       "      <td>740</td>\n",
       "      <td>0</td>\n",
       "      <td>0.00</td>\n",
       "      <td>0.0</td>\n",
       "      <td>0.0</td>\n",
       "      <td>20</td>\n",
       "      <td>1</td>\n",
       "    </tr>\n",
       "  </tbody>\n",
       "</table>\n",
       "</div>"
      ],
      "text/plain": [
       "   wrong_fragment  dst_host_same_srv_rate    ...      service  srv_count\n",
       "0               0                    1.00    ...           25        110\n",
       "1               0                    1.00    ...           25          9\n",
       "2               0                    1.00    ...           25          5\n",
       "3               0                    1.00    ...           25         18\n",
       "4               0                    0.18    ...           20          1\n",
       "\n",
       "[5 rows x 28 columns]"
      ]
     },
     "execution_count": 41,
     "metadata": {},
     "output_type": "execute_result"
    }
   ],
   "source": [
    "X_train_ens = X_train[selected_features]\n",
    "X_train_ens.head()\n",
    "\n",
    "X_test_ens = X_test[selected_features]\n",
    "X_test_ens.head()"
   ]
  },
  {
   "cell_type": "markdown",
   "metadata": {
    "_cell_guid": "cf28a870-2701-4887-ac89-a5250d52e19a",
    "_uuid": "2754765183612de6d7cb33d010886791d23f2eed"
   },
   "source": [
    "### 3. Correlation\n",
    "Features that have high correlation among multiple features (redundant features) \n",
    "are merged or deleted. This is because if there is a large correlation between these features, \n",
    "there is no need to increase the number of features."
   ]
  },
  {
   "cell_type": "code",
   "execution_count": 42,
   "metadata": {
    "_cell_guid": "a2c8bd16-25b4-477e-bf5d-c762243079f2",
    "_uuid": "b10e7c3523f29bc884fc9e20748ebcba7d7c0f55",
    "execution": {
     "iopub.execute_input": "2024-06-10T18:25:46.259344Z",
     "iopub.status.busy": "2024-06-10T18:25:46.259077Z",
     "iopub.status.idle": "2024-06-10T18:25:50.330343Z",
     "shell.execute_reply": "2024-06-10T18:25:50.329351Z",
     "shell.execute_reply.started": "2024-06-10T18:25:46.259299Z"
    }
   },
   "outputs": [
    {
     "data": {
      "text/plain": [
       "<matplotlib.axes._subplots.AxesSubplot at 0x7b36a74d7eb8>"
      ]
     },
     "execution_count": 42,
     "metadata": {},
     "output_type": "execute_result"
    },
    {
     "data": {
      "image/png": "[encoded data removed]",
      "text/plain": [
       "<Figure size 1440x1440 with 2 Axes>"
      ]
     },
     "metadata": {},
     "output_type": "display_data"
    }
   ],
   "source": [
    "sample = X_train_ens[:10000]\n",
    "\n",
    "colormap = plt.cm.viridis\n",
    "plt.figure(figsize=(20, 20))\n",
    "sns.heatmap(sample.astype(float).corr(), linewidths=0.1, vmax=1.0, square=True, cmap=colormap, annot=True)"
   ]
  },
  {
   "cell_type": "markdown",
   "metadata": {
    "_cell_guid": "8b1afd46-b34f-4023-baff-5910a50042a3",
    "_uuid": "caf82815aee36b2a4983dd9b5dd27e4628b9e9ee"
   },
   "source": [
    "#### The above graph analysis shows that the dependency is high in the following features"
   ]
  },
  {
   "cell_type": "code",
   "execution_count": 43,
   "metadata": {
    "_cell_guid": "c460679f-30ad-482d-bb94-3d04203283af",
    "_uuid": "4424fb798329958c7fb825bd2be21bb07352edc0",
    "execution": {
     "iopub.execute_input": "2024-06-10T18:25:50.332432Z",
     "iopub.status.busy": "2024-06-10T18:25:50.332083Z",
     "iopub.status.idle": "2024-06-10T18:25:50.722785Z",
     "shell.execute_reply": "2024-06-10T18:25:50.721863Z",
     "shell.execute_reply.started": "2024-06-10T18:25:50.332372Z"
    }
   },
   "outputs": [
    {
     "data": {
      "text/html": [
       "<div>\n",
       "<style scoped>\n",
       "    .dataframe tbody tr th:only-of-type {\n",
       "        vertical-align: middle;\n",
       "    }\n",
       "\n",
       "    .dataframe tbody tr th {\n",
       "        vertical-align: top;\n",
       "    }\n",
       "\n",
       "    .dataframe thead th {\n",
       "        text-align: right;\n",
       "    }\n",
       "</style>\n",
       "<table border=\"1\" class=\"dataframe\">\n",
       "  <thead>\n",
       "    <tr style=\"text-align: right;\">\n",
       "      <th></th>\n",
       "      <th>wrong_fragment</th>\n",
       "      <th>dst_host_same_srv_rate</th>\n",
       "      <th>dst_host_same_src_port_rate</th>\n",
       "      <th>dst_host_count</th>\n",
       "      <th>same_srv_rate</th>\n",
       "      <th>duration</th>\n",
       "      <th>hot</th>\n",
       "      <th>num_access_files</th>\n",
       "      <th>num_failed_logins</th>\n",
       "      <th>srv_diff_host_rate</th>\n",
       "      <th>dst_host_srv_rerror_rate</th>\n",
       "      <th>count</th>\n",
       "      <th>dst_host_srv_serror_rate</th>\n",
       "      <th>srv_serror_rate</th>\n",
       "      <th>logged_in</th>\n",
       "      <th>dst_host_srv_count</th>\n",
       "      <th>protocol_type</th>\n",
       "      <th>dst_host_diff_srv_rate</th>\n",
       "      <th>dst_host_rerror_rate</th>\n",
       "      <th>src_bytes</th>\n",
       "      <th>dst_bytes</th>\n",
       "      <th>dst_host_srv_diff_host_rate</th>\n",
       "      <th>diff_srv_rate</th>\n",
       "      <th>service</th>\n",
       "      <th>srv_count</th>\n",
       "    </tr>\n",
       "  </thead>\n",
       "  <tbody>\n",
       "    <tr>\n",
       "      <th>count</th>\n",
       "      <td>10000.000000</td>\n",
       "      <td>10000.000000</td>\n",
       "      <td>10000.000000</td>\n",
       "      <td>10000.000000</td>\n",
       "      <td>10000.000000</td>\n",
       "      <td>10000.000000</td>\n",
       "      <td>10000.000000</td>\n",
       "      <td>10000.000000</td>\n",
       "      <td>10000.000000</td>\n",
       "      <td>10000.000000</td>\n",
       "      <td>10000.000000</td>\n",
       "      <td>10000.000000</td>\n",
       "      <td>10000.000000</td>\n",
       "      <td>10000.000000</td>\n",
       "      <td>10000.000000</td>\n",
       "      <td>10000.000000</td>\n",
       "      <td>10000.000000</td>\n",
       "      <td>10000.000000</td>\n",
       "      <td>10000.000000</td>\n",
       "      <td>1.000000e+04</td>\n",
       "      <td>1.000000e+04</td>\n",
       "      <td>10000.000000</td>\n",
       "      <td>10000.000000</td>\n",
       "      <td>10000.000000</td>\n",
       "      <td>10000.000000</td>\n",
       "    </tr>\n",
       "    <tr>\n",
       "      <th>mean</th>\n",
       "      <td>0.009000</td>\n",
       "      <td>0.605769</td>\n",
       "      <td>0.133167</td>\n",
       "      <td>194.522200</td>\n",
       "      <td>0.739925</td>\n",
       "      <td>229.263000</td>\n",
       "      <td>0.093200</td>\n",
       "      <td>0.003700</td>\n",
       "      <td>0.021200</td>\n",
       "      <td>0.097200</td>\n",
       "      <td>0.230181</td>\n",
       "      <td>80.152400</td>\n",
       "      <td>0.097781</td>\n",
       "      <td>0.101696</td>\n",
       "      <td>0.436600</td>\n",
       "      <td>139.645700</td>\n",
       "      <td>0.278600</td>\n",
       "      <td>0.089412</td>\n",
       "      <td>0.236296</td>\n",
       "      <td>6.845032e+03</td>\n",
       "      <td>1.996999e+03</td>\n",
       "      <td>0.020102</td>\n",
       "      <td>0.089752</td>\n",
       "      <td>35.451700</td>\n",
       "      <td>31.730900</td>\n",
       "    </tr>\n",
       "    <tr>\n",
       "      <th>std</th>\n",
       "      <td>0.146701</td>\n",
       "      <td>0.436278</td>\n",
       "      <td>0.307154</td>\n",
       "      <td>93.746065</td>\n",
       "      <td>0.413711</td>\n",
       "      <td>1461.180594</td>\n",
       "      <td>0.647731</td>\n",
       "      <td>0.069906</td>\n",
       "      <td>0.148838</td>\n",
       "      <td>0.252529</td>\n",
       "      <td>0.403294</td>\n",
       "      <td>129.028094</td>\n",
       "      <td>0.279651</td>\n",
       "      <td>0.295464</td>\n",
       "      <td>0.495989</td>\n",
       "      <td>111.548555</td>\n",
       "      <td>0.657134</td>\n",
       "      <td>0.218190</td>\n",
       "      <td>0.389137</td>\n",
       "      <td>8.675409e+04</td>\n",
       "      <td>2.006975e+04</td>\n",
       "      <td>0.089353</td>\n",
       "      <td>0.252240</td>\n",
       "      <td>15.824769</td>\n",
       "      <td>90.353536</td>\n",
       "    </tr>\n",
       "    <tr>\n",
       "      <th>min</th>\n",
       "      <td>0.000000</td>\n",
       "      <td>0.000000</td>\n",
       "      <td>0.000000</td>\n",
       "      <td>0.000000</td>\n",
       "      <td>0.000000</td>\n",
       "      <td>0.000000</td>\n",
       "      <td>0.000000</td>\n",
       "      <td>0.000000</td>\n",
       "      <td>0.000000</td>\n",
       "      <td>0.000000</td>\n",
       "      <td>0.000000</td>\n",
       "      <td>1.000000</td>\n",
       "      <td>0.000000</td>\n",
       "      <td>0.000000</td>\n",
       "      <td>0.000000</td>\n",
       "      <td>0.000000</td>\n",
       "      <td>0.000000</td>\n",
       "      <td>0.000000</td>\n",
       "      <td>0.000000</td>\n",
       "      <td>0.000000e+00</td>\n",
       "      <td>0.000000e+00</td>\n",
       "      <td>0.000000</td>\n",
       "      <td>0.000000</td>\n",
       "      <td>1.000000</td>\n",
       "      <td>1.000000</td>\n",
       "    </tr>\n",
       "    <tr>\n",
       "      <th>25%</th>\n",
       "      <td>0.000000</td>\n",
       "      <td>0.070000</td>\n",
       "      <td>0.000000</td>\n",
       "      <td>125.000000</td>\n",
       "      <td>0.200000</td>\n",
       "      <td>0.000000</td>\n",
       "      <td>0.000000</td>\n",
       "      <td>0.000000</td>\n",
       "      <td>0.000000</td>\n",
       "      <td>0.000000</td>\n",
       "      <td>0.000000</td>\n",
       "      <td>1.000000</td>\n",
       "      <td>0.000000</td>\n",
       "      <td>0.000000</td>\n",
       "      <td>0.000000</td>\n",
       "      <td>15.000000</td>\n",
       "      <td>0.000000</td>\n",
       "      <td>0.000000</td>\n",
       "      <td>0.000000</td>\n",
       "      <td>0.000000e+00</td>\n",
       "      <td>0.000000e+00</td>\n",
       "      <td>0.000000</td>\n",
       "      <td>0.000000</td>\n",
       "      <td>25.000000</td>\n",
       "      <td>1.000000</td>\n",
       "    </tr>\n",
       "    <tr>\n",
       "      <th>50%</th>\n",
       "      <td>0.000000</td>\n",
       "      <td>0.910000</td>\n",
       "      <td>0.000000</td>\n",
       "      <td>255.000000</td>\n",
       "      <td>1.000000</td>\n",
       "      <td>0.000000</td>\n",
       "      <td>0.000000</td>\n",
       "      <td>0.000000</td>\n",
       "      <td>0.000000</td>\n",
       "      <td>0.000000</td>\n",
       "      <td>0.000000</td>\n",
       "      <td>8.000000</td>\n",
       "      <td>0.000000</td>\n",
       "      <td>0.000000</td>\n",
       "      <td>0.000000</td>\n",
       "      <td>159.500000</td>\n",
       "      <td>0.000000</td>\n",
       "      <td>0.020000</td>\n",
       "      <td>0.000000</td>\n",
       "      <td>5.400000e+01</td>\n",
       "      <td>4.400000e+01</td>\n",
       "      <td>0.000000</td>\n",
       "      <td>0.000000</td>\n",
       "      <td>25.000000</td>\n",
       "      <td>6.000000</td>\n",
       "    </tr>\n",
       "    <tr>\n",
       "      <th>75%</th>\n",
       "      <td>0.000000</td>\n",
       "      <td>1.000000</td>\n",
       "      <td>0.030000</td>\n",
       "      <td>255.000000</td>\n",
       "      <td>1.000000</td>\n",
       "      <td>0.000000</td>\n",
       "      <td>0.000000</td>\n",
       "      <td>0.000000</td>\n",
       "      <td>0.000000</td>\n",
       "      <td>0.000000</td>\n",
       "      <td>0.220000</td>\n",
       "      <td>126.000000</td>\n",
       "      <td>0.000000</td>\n",
       "      <td>0.000000</td>\n",
       "      <td>1.000000</td>\n",
       "      <td>255.000000</td>\n",
       "      <td>0.000000</td>\n",
       "      <td>0.060000</td>\n",
       "      <td>0.390000</td>\n",
       "      <td>2.850000e+02</td>\n",
       "      <td>5.990000e+02</td>\n",
       "      <td>0.010000</td>\n",
       "      <td>0.060000</td>\n",
       "      <td>50.000000</td>\n",
       "      <td>16.000000</td>\n",
       "    </tr>\n",
       "    <tr>\n",
       "      <th>max</th>\n",
       "      <td>3.000000</td>\n",
       "      <td>1.000000</td>\n",
       "      <td>1.000000</td>\n",
       "      <td>255.000000</td>\n",
       "      <td>1.000000</td>\n",
       "      <td>57715.000000</td>\n",
       "      <td>30.000000</td>\n",
       "      <td>4.000000</td>\n",
       "      <td>3.000000</td>\n",
       "      <td>1.000000</td>\n",
       "      <td>1.000000</td>\n",
       "      <td>511.000000</td>\n",
       "      <td>1.000000</td>\n",
       "      <td>1.000000</td>\n",
       "      <td>1.000000</td>\n",
       "      <td>255.000000</td>\n",
       "      <td>2.000000</td>\n",
       "      <td>1.000000</td>\n",
       "      <td>1.000000</td>\n",
       "      <td>6.291668e+06</td>\n",
       "      <td>1.285078e+06</td>\n",
       "      <td>1.000000</td>\n",
       "      <td>1.000000</td>\n",
       "      <td>70.000000</td>\n",
       "      <td>511.000000</td>\n",
       "    </tr>\n",
       "  </tbody>\n",
       "</table>\n",
       "</div>"
      ],
      "text/plain": [
       "       wrong_fragment      ...          srv_count\n",
       "count    10000.000000      ...       10000.000000\n",
       "mean         0.009000      ...          31.730900\n",
       "std          0.146701      ...          90.353536\n",
       "min          0.000000      ...           1.000000\n",
       "25%          0.000000      ...           1.000000\n",
       "50%          0.000000      ...           6.000000\n",
       "75%          0.000000      ...          16.000000\n",
       "max          3.000000      ...         511.000000\n",
       "\n",
       "[8 rows x 25 columns]"
      ]
     },
     "execution_count": 43,
     "metadata": {},
     "output_type": "execute_result"
    }
   ],
   "source": [
    "selected2 = ['flag', 'dst_host_serror_rate', 'serror_rate']\n",
    "X_train_cordrop = X_train_ens.drop(selected2, axis=1)\n",
    "X_train_cordrop.describe()\n",
    "\n",
    "X_test_cordrop = X_test_ens.drop(selected2, axis=1)\n",
    "X_test_cordrop.describe()"
   ]
  },
  {
   "cell_type": "markdown",
   "metadata": {
    "_cell_guid": "bca84307-e401-4c50-9437-990f23354504",
    "_uuid": "437afad9f3871fa8587de8aa3e8c26ca7aea5c82"
   },
   "source": [
    "## 2) Modeling"
   ]
  },
  {
   "cell_type": "markdown",
   "metadata": {
    "_cell_guid": "99a7ea76-d290-4cba-9db2-5e32fd4ef880",
    "_uuid": "5a62f476a6d659f77dbb50316f2c8d315eb0b81f"
   },
   "source": [
    "#### Modeling after completion of the feature selection process (elimination of low deviation, high correlation)\n",
    "#### Comparing final modeling results with features that affect ensemble modeling"
   ]
  },
  {
   "cell_type": "markdown",
   "metadata": {
    "_cell_guid": "99fe485a-9166-4981-9b43-4e4870bb8b61",
    "_uuid": "aa98e8b43c274dce6059e103f8e21f9f3b102ca1"
   },
   "source": [
    "### Ensemble Modeling results with final modeling impact"
   ]
  },
  {
   "cell_type": "code",
   "execution_count": 44,
   "metadata": {
    "_cell_guid": "c23bd60e-53b1-4c86-86d6-3c17a3d68559",
    "_uuid": "a246e57258d14976d35c4dbdabc7ca3f483b34ed",
    "execution": {
     "iopub.execute_input": "2024-06-10T18:25:50.724550Z",
     "iopub.status.busy": "2024-06-10T18:25:50.724278Z",
     "iopub.status.idle": "2024-06-10T18:27:21.525656Z",
     "shell.execute_reply": "2024-06-10T18:27:21.524726Z",
     "shell.execute_reply.started": "2024-06-10T18:25:50.724503Z"
    }
   },
   "outputs": [
    {
     "data": {
      "text/plain": [
       "AdaBoostClassifier(algorithm='SAMME.R',\n",
       "          base_estimator=DecisionTreeClassifier(class_weight=None, criterion='gini', max_depth=None,\n",
       "            max_features=None, max_leaf_nodes=None,\n",
       "            min_impurity_decrease=0.0, min_impurity_split=None,\n",
       "            min_samples_leaf=1, min_samples_split=2,\n",
       "            min_weight_fraction_leaf=0.0, presort=False, random_state=None,\n",
       "            splitter='best'),\n",
       "          learning_rate=1.0, n_estimators=100, random_state=None)"
      ]
     },
     "execution_count": 44,
     "metadata": {},
     "output_type": "execute_result"
    }
   ],
   "source": [
    "AB.fit(X_train_cordrop, Y_train)"
   ]
  },
  {
   "cell_type": "code",
   "execution_count": 45,
   "metadata": {
    "_cell_guid": "b10f4e16-ec4c-4282-b220-4b89890beafd",
    "_uuid": "727fda72f8d042aceeeb3ec34ddb31ecd89cfdff",
    "execution": {
     "iopub.execute_input": "2024-06-10T18:27:21.527448Z",
     "iopub.status.busy": "2024-06-10T18:27:21.527173Z",
     "iopub.status.idle": "2024-06-10T18:27:21.852662Z",
     "shell.execute_reply": "2024-06-10T18:27:21.851600Z",
     "shell.execute_reply.started": "2024-06-10T18:27:21.527395Z"
    }
   },
   "outputs": [
    {
     "name": "stdout",
     "output_type": "stream",
     "text": [
      "AdaBoostClassifier_final processing ,,,\n",
      "AdaBoostClassifier_final Score: 0.748 %\n"
     ]
    }
   ],
   "source": [
    "ab_finalscore = AB.score(X_test_cordrop, Y_test)\n",
    "\n",
    "print('AdaBoostClassifier_final processing ,,,')\n",
    "print('AdaBoostClassifier_final Score: %.3f %%' % ab_finalscore)"
   ]
  },
  {
   "cell_type": "code",
   "execution_count": 46,
   "metadata": {
    "_cell_guid": "6c5110b5-31be-481c-851b-61ddd2805af9",
    "_uuid": "68f083e6cd6b486f0d9f8abac38f71c5b7c94c71",
    "execution": {
     "iopub.execute_input": "2024-06-10T18:27:21.854442Z",
     "iopub.status.busy": "2024-06-10T18:27:21.854170Z",
     "iopub.status.idle": "2024-06-10T18:27:23.276473Z",
     "shell.execute_reply": "2024-06-10T18:27:23.274121Z",
     "shell.execute_reply.started": "2024-06-10T18:27:21.854392Z"
    }
   },
   "outputs": [
    {
     "data": {
      "text/plain": [
       "RandomForestClassifier(bootstrap=True, class_weight=None, criterion='entropy',\n",
       "            max_depth=None, max_features='auto', max_leaf_nodes=None,\n",
       "            min_impurity_decrease=0.0, min_impurity_split=None,\n",
       "            min_samples_leaf=1, min_samples_split=2,\n",
       "            min_weight_fraction_leaf=0.0, n_estimators=10, n_jobs=None,\n",
       "            oob_score=False, random_state=None, verbose=0,\n",
       "            warm_start=False)"
      ]
     },
     "execution_count": 46,
     "metadata": {},
     "output_type": "execute_result"
    }
   ],
   "source": [
    "RF.fit(X_train_cordrop, Y_train)"
   ]
  },
  {
   "cell_type": "code",
   "execution_count": 47,
   "metadata": {
    "_cell_guid": "52819ba1-5003-4d17-92a2-18088987b29f",
    "_uuid": "7c00767e23202dbbeafc7bf1413f64602d516320",
    "execution": {
     "iopub.execute_input": "2024-06-10T18:27:23.278766Z",
     "iopub.status.busy": "2024-06-10T18:27:23.278351Z",
     "iopub.status.idle": "2024-06-10T18:27:23.300476Z",
     "shell.execute_reply": "2024-06-10T18:27:23.299453Z",
     "shell.execute_reply.started": "2024-06-10T18:27:23.278693Z"
    }
   },
   "outputs": [
    {
     "name": "stdout",
     "output_type": "stream",
     "text": [
      "RandomForestClassifier_final processing ,,,\n",
      "RandomForestClassifier_final Score: 0.750 %\n"
     ]
    }
   ],
   "source": [
    "rf_finalscore = RF.score(X_test_cordrop, Y_test)\n",
    "\n",
    "print('RandomForestClassifier_final processing ,,,')\n",
    "print('RandomForestClassifier_final Score: %.3f %%' % rf_finalscore)"
   ]
  },
  {
   "cell_type": "code",
   "execution_count": 48,
   "metadata": {
    "_cell_guid": "2f5acd58-35ae-48ec-84b8-ade75c908c17",
    "_uuid": "855df2c7826cc5cfe6fe4552dc5f2d22fea395cd",
    "execution": {
     "iopub.execute_input": "2024-06-10T18:27:23.302528Z",
     "iopub.status.busy": "2024-06-10T18:27:23.302207Z",
     "iopub.status.idle": "2024-06-10T18:27:24.594158Z",
     "shell.execute_reply": "2024-06-10T18:27:24.593314Z",
     "shell.execute_reply.started": "2024-06-10T18:27:23.302459Z"
    }
   },
   "outputs": [
    {
     "data": {
      "text/plain": [
       "ExtraTreesClassifier(bootstrap=False, class_weight=None, criterion='gini',\n",
       "           max_depth=None, max_features='auto', max_leaf_nodes=None,\n",
       "           min_impurity_decrease=0.0, min_impurity_split=None,\n",
       "           min_samples_leaf=1, min_samples_split=2,\n",
       "           min_weight_fraction_leaf=0.0, n_estimators=10, n_jobs=None,\n",
       "           oob_score=False, random_state=None, verbose=0, warm_start=False)"
      ]
     },
     "execution_count": 48,
     "metadata": {},
     "output_type": "execute_result"
    }
   ],
   "source": [
    "ET.fit(X_train_cordrop, Y_train)"
   ]
  },
  {
   "cell_type": "code",
   "execution_count": 49,
   "metadata": {
    "_cell_guid": "eb176ae8-b82e-492b-a72c-ddfb2ddf5124",
    "_uuid": "c2ecd7d47b8ae0c242632d1c9d470c37cf2c6847",
    "execution": {
     "iopub.execute_input": "2024-06-10T18:27:24.596209Z",
     "iopub.status.busy": "2024-06-10T18:27:24.595621Z",
     "iopub.status.idle": "2024-06-10T18:27:24.623046Z",
     "shell.execute_reply": "2024-06-10T18:27:24.622159Z",
     "shell.execute_reply.started": "2024-06-10T18:27:24.596035Z"
    }
   },
   "outputs": [
    {
     "name": "stdout",
     "output_type": "stream",
     "text": [
      "ExtraTreesClassifier_final processing ,,,\n",
      "ExtraTreesClassifier_final Score: 0.748 %\n"
     ]
    }
   ],
   "source": [
    "et_finalscore = ET.score(X_test_cordrop, Y_test)\n",
    "\n",
    "print('ExtraTreesClassifier_final processing ,,,')\n",
    "print('ExtraTreesClassifier_final Score: %.3f %%' % et_finalscore)"
   ]
  },
  {
   "cell_type": "code",
   "execution_count": 50,
   "metadata": {
    "_cell_guid": "dc93742b-4c34-49b1-8a5e-4c8011036914",
    "_uuid": "115417bc401ba9fc71796b1d05b37dcc12ee5366",
    "execution": {
     "iopub.execute_input": "2024-06-10T18:27:24.624665Z",
     "iopub.status.busy": "2024-06-10T18:27:24.624402Z",
     "iopub.status.idle": "2024-06-10T18:29:46.356930Z",
     "shell.execute_reply": "2024-06-10T18:29:46.355956Z",
     "shell.execute_reply.started": "2024-06-10T18:27:24.624621Z"
    }
   },
   "outputs": [
    {
     "data": {
      "text/plain": [
       "GradientBoostingClassifier(criterion='friedman_mse', init=None,\n",
       "              learning_rate=0.1, loss='deviance', max_depth=3,\n",
       "              max_features='auto', max_leaf_nodes=None,\n",
       "              min_impurity_decrease=0.0, min_impurity_split=None,\n",
       "              min_samples_leaf=1, min_samples_split=2,\n",
       "              min_weight_fraction_leaf=0.0, n_estimators=200,\n",
       "              n_iter_no_change=None, presort='auto', random_state=None,\n",
       "              subsample=1.0, tol=0.0001, validation_fraction=0.1,\n",
       "              verbose=0, warm_start=False)"
      ]
     },
     "execution_count": 50,
     "metadata": {},
     "output_type": "execute_result"
    }
   ],
   "source": [
    "GB.fit(X_train_cordrop, Y_train)"
   ]
  },
  {
   "cell_type": "code",
   "execution_count": 51,
   "metadata": {
    "_cell_guid": "dd95914e-f3fd-42ef-a0a3-3c53d86ee32b",
    "_uuid": "f9e2d9c47a0af6192dd9ba4fa6ab954355751e3f",
    "execution": {
     "iopub.execute_input": "2024-06-10T18:29:46.358774Z",
     "iopub.status.busy": "2024-06-10T18:29:46.358451Z",
     "iopub.status.idle": "2024-06-10T18:29:46.507335Z",
     "shell.execute_reply": "2024-06-10T18:29:46.506464Z",
     "shell.execute_reply.started": "2024-06-10T18:29:46.358713Z"
    }
   },
   "outputs": [
    {
     "name": "stdout",
     "output_type": "stream",
     "text": [
      "GradientBoostClassifier_final processing ,,,\n",
      "GradientBoostClassifier_final Score: 0.764 %\n"
     ]
    }
   ],
   "source": [
    "gb_finalscore = GB.score(X_test_cordrop, Y_test)\n",
    "\n",
    "print('GradientBoostClassifier_final processing ,,,')\n",
    "print('GradientBoostClassifier_final Score: %.3f %%' % gb_finalscore)"
   ]
  },
  {
   "cell_type": "code",
   "execution_count": 52,
   "metadata": {
    "_cell_guid": "549bf09c-09d5-4f8d-b0ca-0b74b89a7880",
    "_uuid": "ba400a5487c87ce330963b119ab56e5229f74595",
    "execution": {
     "iopub.execute_input": "2024-06-10T18:29:46.509154Z",
     "iopub.status.busy": "2024-06-10T18:29:46.508836Z",
     "iopub.status.idle": "2024-06-10T18:29:46.583420Z",
     "shell.execute_reply": "2024-06-10T18:29:46.582525Z",
     "shell.execute_reply.started": "2024-06-10T18:29:46.509093Z"
    }
   },
   "outputs": [
    {
     "data": {
      "text/plain": [
       "LinearRegression(copy_X=True, fit_intercept=True, n_jobs=None,\n",
       "         normalize=False)"
      ]
     },
     "execution_count": 52,
     "metadata": {},
     "output_type": "execute_result"
    }
   ],
   "source": [
    "LR.fit(X_train_cordrop, Y_train)"
   ]
  },
  {
   "cell_type": "code",
   "execution_count": 53,
   "metadata": {
    "_cell_guid": "9f9b879c-21e0-4d1d-9e80-0354a1532143",
    "_uuid": "d81105f2fc8b095ab0d7934a805a3c41ed59510d",
    "execution": {
     "iopub.execute_input": "2024-06-10T18:29:46.585405Z",
     "iopub.status.busy": "2024-06-10T18:29:46.585077Z",
     "iopub.status.idle": "2024-06-10T18:29:46.597365Z",
     "shell.execute_reply": "2024-06-10T18:29:46.596057Z",
     "shell.execute_reply.started": "2024-06-10T18:29:46.585344Z"
    }
   },
   "outputs": [
    {
     "name": "stdout",
     "output_type": "stream",
     "text": [
      "LinearRegression_final processing ,,,\n",
      "LinearRegression_final Score: 0.330 %\n"
     ]
    }
   ],
   "source": [
    "lr_finalscore = LR.score(X_test_cordrop, Y_test)\n",
    "\n",
    "print('LinearRegression_final processing ,,,')\n",
    "print('LinearRegression_final Score: %.3f %%' % lr_finalscore)"
   ]
  },
  {
   "cell_type": "code",
   "execution_count": 54,
   "metadata": {
    "_cell_guid": "3cb65a03-8abd-464c-8b2d-5dbb7dc860a4",
    "_uuid": "8a9485ce301f024f8463fa91dd0f39873e661b4f",
    "execution": {
     "iopub.execute_input": "2024-06-10T18:29:46.600305Z",
     "iopub.status.busy": "2024-06-10T18:29:46.599501Z",
     "iopub.status.idle": "2024-06-10T18:29:46.619088Z",
     "shell.execute_reply": "2024-06-10T18:29:46.617565Z",
     "shell.execute_reply.started": "2024-06-10T18:29:46.600196Z"
    }
   },
   "outputs": [],
   "source": [
    "from sklearn.neural_network import MLPClassifier"
   ]
  },
  {
   "cell_type": "code",
   "execution_count": 55,
   "metadata": {
    "_cell_guid": "c950918b-b173-4740-862c-0c3b708a9235",
    "_uuid": "cd31d2134b4717f323c45cd31b6f1db63ca46d4a",
    "execution": {
     "iopub.execute_input": "2024-06-10T18:29:46.629003Z",
     "iopub.status.busy": "2024-06-10T18:29:46.627909Z",
     "iopub.status.idle": "2024-06-10T18:29:46.636205Z",
     "shell.execute_reply": "2024-06-10T18:29:46.634895Z",
     "shell.execute_reply.started": "2024-06-10T18:29:46.628548Z"
    }
   },
   "outputs": [],
   "source": [
    "MLP = MLPClassifier(hidden_layer_sizes=(1000, 300, 300), solver='adam', shuffle=False, tol = 0.0001)"
   ]
  },
  {
   "cell_type": "code",
   "execution_count": 56,
   "metadata": {
    "_cell_guid": "46881ae7-400a-4a75-8591-15328d0e6710",
    "_uuid": "1572769ae4717ab069b458d10cd0fd5853e4d679",
    "execution": {
     "iopub.execute_input": "2024-06-10T18:29:46.640163Z",
     "iopub.status.busy": "2024-06-10T18:29:46.639124Z",
     "iopub.status.idle": "2024-06-10T18:40:02.164650Z",
     "shell.execute_reply": "2024-06-10T18:40:02.163237Z",
     "shell.execute_reply.started": "2024-06-10T18:29:46.639575Z"
    }
   },
   "outputs": [
    {
     "data": {
      "text/plain": [
       "MLPClassifier(activation='relu', alpha=0.0001, batch_size='auto', beta_1=0.9,\n",
       "       beta_2=0.999, early_stopping=False, epsilon=1e-08,\n",
       "       hidden_layer_sizes=(1000, 300, 300), learning_rate='constant',\n",
       "       learning_rate_init=0.001, max_iter=200, momentum=0.9,\n",
       "       n_iter_no_change=10, nesterovs_momentum=True, power_t=0.5,\n",
       "       random_state=None, shuffle=False, solver='adam', tol=0.0001,\n",
       "       validation_fraction=0.1, verbose=False, warm_start=False)"
      ]
     },
     "execution_count": 56,
     "metadata": {},
     "output_type": "execute_result"
    }
   ],
   "source": [
    "MLP.fit(X_train_cordrop, Y_train)"
   ]
  },
  {
   "cell_type": "code",
   "execution_count": 57,
   "metadata": {
    "_cell_guid": "9decad79-3473-4864-a492-28706f6e21a2",
    "_uuid": "c4319c1619926844ac840bd07d709dbe6a005e71",
    "execution": {
     "iopub.execute_input": "2024-06-10T18:40:02.168524Z",
     "iopub.status.busy": "2024-06-10T18:40:02.167278Z",
     "iopub.status.idle": "2024-06-10T18:40:02.991469Z",
     "shell.execute_reply": "2024-06-10T18:40:02.990107Z",
     "shell.execute_reply.started": "2024-06-10T18:40:02.168417Z"
    }
   },
   "outputs": [
    {
     "name": "stdout",
     "output_type": "stream",
     "text": [
      "MLP_final processing ,,,\n",
      "MLP_final Score: 0.688 %\n"
     ]
    }
   ],
   "source": [
    "mlp_finalscore = MLP.score(X_test_cordrop, Y_test)\n",
    "\n",
    "print('MLP_final processing ,,,')\n",
    "print('MLP_final Score: %.3f %%' % mlp_finalscore)"
   ]
  },
  {
   "cell_type": "markdown",
   "metadata": {
    "_cell_guid": "43f36342-876f-4a20-99d0-ab8234114d35",
    "_uuid": "f13128bb7b5d80477a6fa37be02cd133c82c22f2"
   },
   "source": [
    "## 3) Result"
   ]
  },
  {
   "cell_type": "markdown",
   "metadata": {
    "_cell_guid": "8f682c88-9c33-4fd8-a2ce-1a8d22d3bfdd",
    "_uuid": "87dbe5f8f85a766174de6dd17fd23e6a3118463b"
   },
   "source": [
    "As a result, feature selection and extraction did not result in high probability. I have seen 1-2% increase in accuracy, but I think the feature will be reduced and it will be able to operate a little faster and will prevent overfitting when new data comes in.\n",
    "\n",
    "Comparing the score of each model\n",
    "\n",
    "- first models"
   ]
  },
  {
   "cell_type": "code",
   "execution_count": 58,
   "metadata": {
    "_cell_guid": "62c2bfc6-4371-425f-8122-ebbcde01d793",
    "_uuid": "2addbacc5e659767afd22b7ba6019642bf8dd891",
    "execution": {
     "iopub.execute_input": "2024-06-10T18:40:02.995085Z",
     "iopub.status.busy": "2024-06-10T18:40:02.993989Z",
     "iopub.status.idle": "2024-06-10T18:40:03.035799Z",
     "shell.execute_reply": "2024-06-10T18:40:03.034211Z",
     "shell.execute_reply.started": "2024-06-10T18:40:02.994985Z"
    }
   },
   "outputs": [
    {
     "data": {
      "text/html": [
       "<div>\n",
       "<style scoped>\n",
       "    .dataframe tbody tr th:only-of-type {\n",
       "        vertical-align: middle;\n",
       "    }\n",
       "\n",
       "    .dataframe tbody tr th {\n",
       "        vertical-align: top;\n",
       "    }\n",
       "\n",
       "    .dataframe thead th {\n",
       "        text-align: right;\n",
       "    }\n",
       "</style>\n",
       "<table border=\"1\" class=\"dataframe\">\n",
       "  <thead>\n",
       "    <tr style=\"text-align: right;\">\n",
       "      <th></th>\n",
       "      <th>Model</th>\n",
       "      <th>accuracy</th>\n",
       "    </tr>\n",
       "  </thead>\n",
       "  <tbody>\n",
       "    <tr>\n",
       "      <th>0</th>\n",
       "      <td>Linear Regression</td>\n",
       "      <td>0.334265</td>\n",
       "    </tr>\n",
       "    <tr>\n",
       "      <th>1</th>\n",
       "      <td>Adaboost</td>\n",
       "      <td>0.763900</td>\n",
       "    </tr>\n",
       "    <tr>\n",
       "      <th>2</th>\n",
       "      <td>RandomForest</td>\n",
       "      <td>0.770200</td>\n",
       "    </tr>\n",
       "    <tr>\n",
       "      <th>3</th>\n",
       "      <td>ExtraTrees</td>\n",
       "      <td>0.751000</td>\n",
       "    </tr>\n",
       "    <tr>\n",
       "      <th>4</th>\n",
       "      <td>GradientBoost</td>\n",
       "      <td>0.763400</td>\n",
       "    </tr>\n",
       "  </tbody>\n",
       "</table>\n",
       "</div>"
      ],
      "text/plain": [
       "               Model  accuracy\n",
       "0  Linear Regression  0.334265\n",
       "1           Adaboost  0.763900\n",
       "2       RandomForest  0.770200\n",
       "3         ExtraTrees  0.751000\n",
       "4      GradientBoost  0.763400"
      ]
     },
     "execution_count": 58,
     "metadata": {},
     "output_type": "execute_result"
    }
   ],
   "source": [
    "first_model = {'Model': ['Linear Regression', 'Adaboost', 'RandomForest', 'ExtraTrees', 'GradientBoost'],\n",
    "               'accuracy' : [lr_score, ab_score, rf_score, et_score, gb_score]}\n",
    "\n",
    "result_df = pd.DataFrame(data = first_model)\n",
    "result_df"
   ]
  },
  {
   "cell_type": "code",
   "execution_count": 59,
   "metadata": {
    "_cell_guid": "1593e71a-2376-4ce0-aeed-9496d6a34033",
    "_uuid": "9a4819e0776ce7f2b4084db5fdecd50a7f005285",
    "execution": {
     "iopub.execute_input": "2024-06-10T18:40:03.038939Z",
     "iopub.status.busy": "2024-06-10T18:40:03.038076Z",
     "iopub.status.idle": "2024-06-10T18:40:03.459884Z",
     "shell.execute_reply": "2024-06-10T18:40:03.458871Z",
     "shell.execute_reply.started": "2024-06-10T18:40:03.038838Z"
    }
   },
   "outputs": [
    {
     "data": {
      "text/plain": [
       "[Text(0,0,'Linear Regression'),\n",
       " Text(0,0,'Adaboost'),\n",
       " Text(0,0,'RandomForest'),\n",
       " Text(0,0,'ExtraTrees'),\n",
       " Text(0,0,'GradientBoost')]"
      ]
     },
     "execution_count": 59,
     "metadata": {},
     "output_type": "execute_result"
    },
    {
     "data": {
      "image/png": "[encoded data removed]",
      "text/plain": [
       "<Figure size 576x576 with 1 Axes>"
      ]
     },
     "metadata": {},
     "output_type": "display_data"
    }
   ],
   "source": [
    "r1 = result_df.plot(x='Model', y='accuracy', kind='bar', figsize=(8, 8), grid=True, title='FIRST MODEL ACCURACY', colormap=plt.cm.viridis,\n",
    "               sort_columns=True)\n",
    "r1.set_xticklabels(result_df.Model, rotation = 45)"
   ]
  },
  {
   "cell_type": "markdown",
   "metadata": {
    "_cell_guid": "ac55b83e-45ca-4ebe-8b07-fe2cb8c75401",
    "_uuid": "48d088678664594035957f8eb9907f5695b0768d"
   },
   "source": [
    "- second models"
   ]
  },
  {
   "cell_type": "code",
   "execution_count": 60,
   "metadata": {
    "_cell_guid": "30f3c2a5-5580-4a5e-9d26-3c8987b96285",
    "_uuid": "a51fb147aa97a7fd947ca426e2dce59f746ccd75",
    "execution": {
     "iopub.execute_input": "2024-06-10T18:40:03.462212Z",
     "iopub.status.busy": "2024-06-10T18:40:03.461859Z",
     "iopub.status.idle": "2024-06-10T18:40:03.479723Z",
     "shell.execute_reply": "2024-06-10T18:40:03.478907Z",
     "shell.execute_reply.started": "2024-06-10T18:40:03.462146Z"
    }
   },
   "outputs": [
    {
     "data": {
      "text/html": [
       "<div>\n",
       "<style scoped>\n",
       "    .dataframe tbody tr th:only-of-type {\n",
       "        vertical-align: middle;\n",
       "    }\n",
       "\n",
       "    .dataframe tbody tr th {\n",
       "        vertical-align: top;\n",
       "    }\n",
       "\n",
       "    .dataframe thead th {\n",
       "        text-align: right;\n",
       "    }\n",
       "</style>\n",
       "<table border=\"1\" class=\"dataframe\">\n",
       "  <thead>\n",
       "    <tr style=\"text-align: right;\">\n",
       "      <th></th>\n",
       "      <th>Model</th>\n",
       "      <th>accuracy</th>\n",
       "    </tr>\n",
       "  </thead>\n",
       "  <tbody>\n",
       "    <tr>\n",
       "      <th>0</th>\n",
       "      <td>Adaboost</td>\n",
       "      <td>0.7606</td>\n",
       "    </tr>\n",
       "    <tr>\n",
       "      <th>1</th>\n",
       "      <td>RandomForest</td>\n",
       "      <td>0.7381</td>\n",
       "    </tr>\n",
       "    <tr>\n",
       "      <th>2</th>\n",
       "      <td>ExtraTrees</td>\n",
       "      <td>0.7557</td>\n",
       "    </tr>\n",
       "    <tr>\n",
       "      <th>3</th>\n",
       "      <td>GradientBoost</td>\n",
       "      <td>0.7612</td>\n",
       "    </tr>\n",
       "  </tbody>\n",
       "</table>\n",
       "</div>"
      ],
      "text/plain": [
       "           Model  accuracy\n",
       "0       Adaboost    0.7606\n",
       "1   RandomForest    0.7381\n",
       "2     ExtraTrees    0.7557\n",
       "3  GradientBoost    0.7612"
      ]
     },
     "execution_count": 60,
     "metadata": {},
     "output_type": "execute_result"
    }
   ],
   "source": [
    "second_model = {'Model': ['Adaboost', 'RandomForest', 'ExtraTrees', 'GradientBoost'],\n",
    "               'accuracy' : [ab2_score, rf2_score, et2_score, gb2_score]}\n",
    "\n",
    "result_df = pd.DataFrame(data = second_model)\n",
    "result_df"
   ]
  },
  {
   "cell_type": "code",
   "execution_count": 61,
   "metadata": {
    "_cell_guid": "d0dc189a-81b0-43ad-a816-95dd1d5de5c9",
    "_uuid": "03e9c7e9235421489641d77913f2883ee35237ef",
    "execution": {
     "iopub.execute_input": "2024-06-10T18:40:03.482304Z",
     "iopub.status.busy": "2024-06-10T18:40:03.481890Z",
     "iopub.status.idle": "2024-06-10T18:40:03.938448Z",
     "shell.execute_reply": "2024-06-10T18:40:03.937551Z",
     "shell.execute_reply.started": "2024-06-10T18:40:03.482230Z"
    }
   },
   "outputs": [
    {
     "data": {
      "text/plain": [
       "[Text(0,0,'Adaboost'),\n",
       " Text(0,0,'RandomForest'),\n",
       " Text(0,0,'ExtraTrees'),\n",
       " Text(0,0,'GradientBoost')]"
      ]
     },
     "execution_count": 61,
     "metadata": {},
     "output_type": "execute_result"
    },
    {
     "data": {
      "image/png": "[encoded data removed]",
      "text/plain": [
       "<Figure size 576x576 with 1 Axes>"
      ]
     },
     "metadata": {},
     "output_type": "display_data"
    }
   ],
   "source": [
    "r2 = result_df.plot(x='Model', y='accuracy', kind='bar', figsize=(8, 8), grid=True, title='SECOND MODEL ACCURACY', colormap=plt.cm.viridis,\n",
    "               sort_columns=True)\n",
    "r2.set_xticklabels(result_df.Model, rotation = 45)"
   ]
  },
  {
   "cell_type": "markdown",
   "metadata": {
    "_cell_guid": "f26eaffe-1b6f-4faa-ad93-8d5e7fa1cfd6",
    "_uuid": "71b6d0ca5a693995bc1e72150b033c526fd904fc"
   },
   "source": [
    "- final models"
   ]
  },
  {
   "cell_type": "code",
   "execution_count": 62,
   "metadata": {
    "_cell_guid": "6fa5246c-5390-4544-8395-21cd4631d4ad",
    "_uuid": "72b23787083c06d972b41872315c40196b9cc539",
    "execution": {
     "iopub.execute_input": "2024-06-10T18:40:03.940222Z",
     "iopub.status.busy": "2024-06-10T18:40:03.939899Z",
     "iopub.status.idle": "2024-06-10T18:40:03.957770Z",
     "shell.execute_reply": "2024-06-10T18:40:03.956956Z",
     "shell.execute_reply.started": "2024-06-10T18:40:03.940160Z"
    }
   },
   "outputs": [
    {
     "data": {
      "text/html": [
       "<div>\n",
       "<style scoped>\n",
       "    .dataframe tbody tr th:only-of-type {\n",
       "        vertical-align: middle;\n",
       "    }\n",
       "\n",
       "    .dataframe tbody tr th {\n",
       "        vertical-align: top;\n",
       "    }\n",
       "\n",
       "    .dataframe thead th {\n",
       "        text-align: right;\n",
       "    }\n",
       "</style>\n",
       "<table border=\"1\" class=\"dataframe\">\n",
       "  <thead>\n",
       "    <tr style=\"text-align: right;\">\n",
       "      <th></th>\n",
       "      <th>Model</th>\n",
       "      <th>accuracy</th>\n",
       "    </tr>\n",
       "  </thead>\n",
       "  <tbody>\n",
       "    <tr>\n",
       "      <th>0</th>\n",
       "      <td>Linear Regression</td>\n",
       "      <td>0.329539</td>\n",
       "    </tr>\n",
       "    <tr>\n",
       "      <th>1</th>\n",
       "      <td>Adaboost</td>\n",
       "      <td>0.747500</td>\n",
       "    </tr>\n",
       "    <tr>\n",
       "      <th>2</th>\n",
       "      <td>RandomForest</td>\n",
       "      <td>0.749900</td>\n",
       "    </tr>\n",
       "    <tr>\n",
       "      <th>3</th>\n",
       "      <td>ExtraTrees</td>\n",
       "      <td>0.747900</td>\n",
       "    </tr>\n",
       "    <tr>\n",
       "      <th>4</th>\n",
       "      <td>GradientBoost</td>\n",
       "      <td>0.764500</td>\n",
       "    </tr>\n",
       "    <tr>\n",
       "      <th>5</th>\n",
       "      <td>MLP</td>\n",
       "      <td>0.687900</td>\n",
       "    </tr>\n",
       "  </tbody>\n",
       "</table>\n",
       "</div>"
      ],
      "text/plain": [
       "               Model  accuracy\n",
       "0  Linear Regression  0.329539\n",
       "1           Adaboost  0.747500\n",
       "2       RandomForest  0.749900\n",
       "3         ExtraTrees  0.747900\n",
       "4      GradientBoost  0.764500\n",
       "5                MLP  0.687900"
      ]
     },
     "execution_count": 62,
     "metadata": {},
     "output_type": "execute_result"
    }
   ],
   "source": [
    "final_model = {'Model': ['Linear Regression', 'Adaboost', 'RandomForest', 'ExtraTrees', 'GradientBoost', 'MLP'],\n",
    "               'accuracy' : [lr_finalscore, ab_finalscore, rf_finalscore, et_finalscore, gb_finalscore, mlp_finalscore]}\n",
    "\n",
    "result_df = pd.DataFrame(data = final_model)\n",
    "result_df"
   ]
  },
  {
   "cell_type": "code",
   "execution_count": 63,
   "metadata": {
    "_cell_guid": "1f5066b8-b3e2-4037-bf27-b28a4564fe43",
    "_uuid": "508e632d6f8c00799d6eb92f32ff04a63ca1453b",
    "execution": {
     "iopub.execute_input": "2024-06-10T18:40:03.960018Z",
     "iopub.status.busy": "2024-06-10T18:40:03.959491Z",
     "iopub.status.idle": "2024-06-10T18:40:04.449776Z",
     "shell.execute_reply": "2024-06-10T18:40:04.448887Z",
     "shell.execute_reply.started": "2024-06-10T18:40:03.959756Z"
    }
   },
   "outputs": [
    {
     "data": {
      "text/plain": [
       "[Text(0,0,'Linear Regression'),\n",
       " Text(0,0,'Adaboost'),\n",
       " Text(0,0,'RandomForest'),\n",
       " Text(0,0,'ExtraTrees'),\n",
       " Text(0,0,'GradientBoost'),\n",
       " Text(0,0,'MLP')]"
      ]
     },
     "execution_count": 63,
     "metadata": {},
     "output_type": "execute_result"
    },
    {
     "data": {
      "image/png": "[encoded data removed]",
      "text/plain": [
       "<Figure size 576x576 with 1 Axes>"
      ]
     },
     "metadata": {},
     "output_type": "display_data"
    }
   ],
   "source": [
    "r3 = result_df.plot(x='Model', y='accuracy', kind='bar', figsize=(8, 8), grid=True, title='FINAL MODEL ACCURACY', colormap=plt.cm.viridis,\n",
    "               sort_columns=True)\n",
    "r3.set_xticklabels(result_df.Model, rotation = 45)"
   ]
  },
  {
   "cell_type": "markdown",
   "metadata": {
    "_cell_guid": "b33537a6-cd41-47ef-b125-f911f1d18325",
    "_uuid": "154d61d4c43be116567977d0ca829604a43fb62d"
   },
   "source": [
    "## FASTEST AND ACCURATE MODEL - ExtraTrees of the final model (76.4%)\n",
    "## STRONGEST AND THE MOST ACCURATE MODEL - GradientBoost of the final model (77.1%)\n",
    "\n",
    "Gradient boost has a 77 percent chance, but the speed is significantly faster with ExtraTress."
   ]
  },
  {
   "cell_type": "code",
   "execution_count": 64,
   "metadata": {
    "_uuid": "088cbe5c26fb948e1faa00c1a800f205db469bbb",
    "execution": {
     "iopub.execute_input": "2024-06-10T18:40:04.451703Z",
     "iopub.status.busy": "2024-06-10T18:40:04.451430Z",
     "iopub.status.idle": "2024-06-10T18:44:14.937102Z",
     "shell.execute_reply": "2024-06-10T18:44:14.935867Z",
     "shell.execute_reply.started": "2024-06-10T18:40:04.451659Z"
    }
   },
   "outputs": [
    {
     "name": "stdout",
     "output_type": "stream",
     "text": [
      "Best parameters: {'criterion': 'entropy', 'max_features': 'auto', 'n_estimators': 100}\n",
      "Best score: 0.9987695776079001\n"
     ]
    }
   ],
   "source": [
    "from sklearn.model_selection import GridSearchCV\n",
    "\n",
    "# Grid Search untuk RandomForestClassifier\n",
    "param_grid = {\n",
    "    'n_estimators': [10, 50, 100],\n",
    "    'max_features': ['auto', 'sqrt', 'log2'],\n",
    "    'criterion': ['gini', 'entropy']\n",
    "}\n",
    "\n",
    "grid_search = GridSearchCV(estimator=RF, param_grid=param_grid, cv=5, n_jobs=-1)\n",
    "grid_search.fit(X_train_cordrop, Y_train)\n",
    "\n",
    "print(f\"Best parameters: {grid_search.best_params_}\")\n",
    "print(f\"Best score: {grid_search.best_score_}\")"
   ]
  },
  {
   "cell_type": "code",
   "execution_count": 65,
   "metadata": {
    "_uuid": "42f73af483e3cbe653aaf925696a1885ad71fc2a",
    "execution": {
     "iopub.execute_input": "2024-06-10T18:44:14.938987Z",
     "iopub.status.busy": "2024-06-10T18:44:14.938693Z",
     "iopub.status.idle": "2024-06-10T18:44:20.425283Z",
     "shell.execute_reply": "2024-06-10T18:44:20.424176Z",
     "shell.execute_reply.started": "2024-06-10T18:44:14.938939Z"
    }
   },
   "outputs": [
    {
     "name": "stdout",
     "output_type": "stream",
     "text": [
      "Cross-Validation Scores: [0.99849188 0.99872996 0.99829324 0.99845195 0.99857103]\n",
      "Mean CV Score: 0.9985076136176584\n"
     ]
    }
   ],
   "source": [
    "from sklearn.model_selection import cross_val_score\n",
    "\n",
    "# cross-validation untuk RandomForestClassifier\n",
    "cv_scores = cross_val_score(RF, X_train_cordrop, Y_train, cv=5)\n",
    "print(f\"Cross-Validation Scores: {cv_scores}\")\n",
    "print(f\"Mean CV Score: {np.mean(cv_scores)}\")"
   ]
  },
  {
   "cell_type": "code",
   "execution_count": 66,
   "metadata": {
    "_uuid": "61a5429606893f4dca50d79832440430bbf9fa07",
    "execution": {
     "iopub.execute_input": "2024-06-10T18:44:20.427550Z",
     "iopub.status.busy": "2024-06-10T18:44:20.427167Z",
     "iopub.status.idle": "2024-06-10T18:48:15.855179Z",
     "shell.execute_reply": "2024-06-10T18:48:15.853948Z",
     "shell.execute_reply.started": "2024-06-10T18:44:20.427479Z"
    }
   },
   "outputs": [
    {
     "name": "stdout",
     "output_type": "stream",
     "text": [
      "Voting Classifier Score: 0.753\n"
     ]
    }
   ],
   "source": [
    "from sklearn.ensemble import VotingClassifier\n",
    "\n",
    "voting_clf = VotingClassifier(\n",
    "    estimators=[('rf', RF), ('gb', GB), ('et', ET), ('ab', AB)],\n",
    "    voting='soft'\n",
    ")\n",
    "voting_clf.fit(X_train_cordrop, Y_train)\n",
    "voting_score = voting_clf.score(X_test_cordrop, Y_test)\n",
    "\n",
    "print(f\"Voting Classifier Score: {voting_score:.3f}\")"
   ]
  }
 ],
 "metadata": {
  "kaggle": {
   "accelerator": "none",
   "dataSources": [
    {
     "datasetId": 8191,
     "sourceId": 11478,
     "sourceType": "datasetVersion"
    }
   ],
   "dockerImageVersionId": 18195,
   "isGpuEnabled": false,
   "isInternetEnabled": false,
   "language": "python",
   "sourceType": "notebook"
  },
  "kernelspec": {
   "display_name": "Python 3",
   "language": "python",
   "name": "python3"
  },
  "language_info": {
   "codemirror_mode": {
    "name": "ipython",
    "version": 3
   },
   "file_extension": ".py",
   "mimetype": "text/x-python",
   "name": "python",
   "nbconvert_exporter": "python",
   "pygments_lexer": "ipython3",
   "version": "3.6.6"
  }
 },
 "nbformat": 4,
 "nbformat_minor": 4
}
